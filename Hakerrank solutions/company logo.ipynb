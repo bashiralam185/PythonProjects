{
 "cells": [
  {
   "cell_type": "code",
   "execution_count": 1,
   "id": "d21c7e48",
   "metadata": {},
   "outputs": [
    {
     "name": "stdout",
     "output_type": "stream",
     "text": [
      "aabbbccde\n",
      "b 3\n",
      "a 2\n",
      "c 2\n"
     ]
    }
   ],
   "source": [
    "# importing the modules\n",
    "import math\n",
    "import os\n",
    "import random\n",
    "import re\n",
    "import sys\n",
    "from collections import Counter\n",
    "\n",
    "\n",
    "# using __name__ variable\n",
    "if __name__ == '__main__':\n",
    "    \n",
    "    # taking input from user and sorting it\n",
    "    s = input()\n",
    "    s = sorted(s)\n",
    "    \n",
    "    # using counter method to find the frequency of each of the words\n",
    "    FREQUENCY = Counter(list(s))\n",
    "    \n",
    "    # using for loop to print the three words with frequency\n",
    "    for k, v in FREQUENCY.most_common(3):\n",
    "        print(k, v)\n"
   ]
  },
  {
   "cell_type": "code",
   "execution_count": 2,
   "id": "512044ea",
   "metadata": {},
   "outputs": [
    {
     "name": "stdout",
     "output_type": "stream",
     "text": [
      "bashiralam\n",
      "[('a', 3), ('b', 1), ('h', 1), ('i', 1), ('l', 1), ('m', 1), ('r', 1), ('s', 1)]\n",
      "a 3\n",
      "b 1\n",
      "h 1\n"
     ]
    }
   ],
   "source": [
    "# importing the required modules\n",
    "import math\n",
    "import os\n",
    "import random\n",
    "import re\n",
    "import sys\n",
    "from collections import Counter\n",
    "\n",
    "# Using __name__ variable\n",
    "if __name__ == '__main__':\n",
    "    \n",
    "    # taking imput and then sorting \n",
    "    s = sorted(input().strip())\n",
    "    \n",
    "    # finiding frequency \n",
    "    s_counter =Counter(s).most_common()\n",
    "    \n",
    "    # using lambda function sort the items with frequencies in deceding order\n",
    "    s_counter = sorted(s_counter, key=lambda x: (x[1] * -1, x[0]))\n",
    "\n",
    "    # printing the first three items\n",
    "    for i in range(0, 3):\n",
    "        print(s_counter[i][0], s_counter[i][1])\n"
   ]
  },
  {
   "cell_type": "code",
   "execution_count": null,
   "id": "f5438ca3",
   "metadata": {},
   "outputs": [],
   "source": [
    "# importing the modules\n",
    "from collections import Counter, OrderedDict\n",
    "\n",
    "# creating python class\n",
    "class OrderedCounter(Counter, OrderedDict):\n",
    "    pass\n",
    "\n",
    "# creating new object in class each time we call in range of 3 , when the item is sorted\n",
    "[print(*c) for c in OrderedCounter(sorted(input())).most_common(3)]"
   ]
  }
 ],
 "metadata": {
  "kernelspec": {
   "display_name": "Python 3 (ipykernel)",
   "language": "python",
   "name": "python3"
  },
  "language_info": {
   "codemirror_mode": {
    "name": "ipython",
    "version": 3
   },
   "file_extension": ".py",
   "mimetype": "text/x-python",
   "name": "python",
   "nbconvert_exporter": "python",
   "pygments_lexer": "ipython3",
   "version": "3.9.12"
  }
 },
 "nbformat": 4,
 "nbformat_minor": 5
}
