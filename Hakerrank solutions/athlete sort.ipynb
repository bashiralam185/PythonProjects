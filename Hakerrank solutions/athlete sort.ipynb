{
 "cells": [
  {
   "cell_type": "code",
   "execution_count": 5,
   "id": "500c77b4",
   "metadata": {},
   "outputs": [
    {
     "name": "stdout",
     "output_type": "stream",
     "text": [
      "5 3\n",
      "10 2 5\n",
      "7 1 0\n",
      "9 9 9\n",
      "1 23 12\n",
      "6 5 9\n",
      "0\n",
      "1 23 12\n",
      "6 5 9\n",
      "7 1 0\n",
      "9 9 9\n",
      "10 2 5\n"
     ]
    }
   ],
   "source": [
    "# importing the required modules\n",
    "import math\n",
    "import os\n",
    "import random\n",
    "import re\n",
    "import sys\n",
    "\n",
    "\n",
    "# initiailzing map function\n",
    "N, M = map(int, input().split())\n",
    "\n",
    "# taking for rows\n",
    "rows = [input() for _ in range(N)]\n",
    "\n",
    "# taking input from user\n",
    "K = int(input())\n",
    "\n",
    "\n",
    "# sorting using sorted function\n",
    "for row in sorted(rows, key=lambda row: int(row.split()[K])):\n",
    "    print(row)"
   ]
  },
  {
   "cell_type": "code",
   "execution_count": 7,
   "id": "b6a746a6",
   "metadata": {},
   "outputs": [
    {
     "name": "stdout",
     "output_type": "stream",
     "text": [
      "5 3\n",
      "10 2 5\n",
      "7 1 0\n",
      "9 9 9\n",
      "1 23 12\n",
      "6 5 9\n",
      "2\n",
      "7 1 0\n",
      "10 2 5\n",
      "9 9 9\n",
      "6 5 9\n",
      "1 23 12\n"
     ]
    }
   ],
   "source": [
    "# using __name__ variable\n",
    "if __name__ == \"__main__\":\n",
    "    \n",
    "#     Taking the input from the user\n",
    "    n, m = input().strip().split(' ')\n",
    "    \n",
    "#     storing the input as list\n",
    "    n, m = [int(n), int(m)]\n",
    "    arr = []\n",
    "    \n",
    "#     looping throug\n",
    "    for arr_i in range(n):\n",
    "        \n",
    "#         taking the data from the user\n",
    "       arr_t = [int(arr_temp) for arr_temp in input().strip().split(' ')]\n",
    "       arr.append(arr_t)\n",
    "    \n",
    "#     taking the input from user\n",
    "    k = int(input().strip())\n",
    "    \n",
    "#     using the sorted function to sort\n",
    "    sorted_arr = sorted(arr, key = lambda x : x[k])\n",
    "    \n",
    "#     using for loop to print the sorted values\n",
    "    for row in sorted_arr:\n",
    "        print(' '.join(str(y) for y in row))"
   ]
  },
  {
   "cell_type": "code",
   "execution_count": 10,
   "id": "fbbf2200",
   "metadata": {},
   "outputs": [
    {
     "name": "stdout",
     "output_type": "stream",
     "text": [
      "5 3\n",
      "10 2 5\n",
      "7 1 0\n",
      "9 9 9\n",
      "1 23 12\n",
      "6 5 9\n",
      "1\n",
      "7 1 0\n",
      "10 2 5\n",
      "6 5 9\n",
      "9 9 9\n",
      "1 23 12\n"
     ]
    }
   ],
   "source": [
    "def athlete_sort():\n",
    "    # initiailzing map function\n",
    "    N, M = map(int, input().split())\n",
    "\n",
    "    # taking for rows\n",
    "    rows = [input() for _ in range(N)]\n",
    "\n",
    "    # taking input from user\n",
    "    K = int(input())\n",
    "\n",
    "\n",
    "    # sorting using sorted function\n",
    "    for row in sorted(rows, key=lambda row: int(row.split()[K])):\n",
    "        print(row)\n",
    "    \n",
    "# Calling the function\n",
    "athlete_sort()\n"
   ]
  },
  {
   "cell_type": "code",
   "execution_count": null,
   "id": "959d4e2e",
   "metadata": {},
   "outputs": [],
   "source": []
  }
 ],
 "metadata": {
  "kernelspec": {
   "display_name": "Python 3 (ipykernel)",
   "language": "python",
   "name": "python3"
  },
  "language_info": {
   "codemirror_mode": {
    "name": "ipython",
    "version": 3
   },
   "file_extension": ".py",
   "mimetype": "text/x-python",
   "name": "python",
   "nbconvert_exporter": "python",
   "pygments_lexer": "ipython3",
   "version": "3.9.12"
  }
 },
 "nbformat": 4,
 "nbformat_minor": 5
}
