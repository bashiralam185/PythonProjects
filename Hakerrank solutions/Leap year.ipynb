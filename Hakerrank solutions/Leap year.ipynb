{
 "cells": [
  {
   "cell_type": "code",
   "execution_count": 11,
   "id": "43ca0ff4",
   "metadata": {},
   "outputs": [],
   "source": [
    "def is_leap(year):\n",
    "    \n",
    "    # variable to check the leap year\n",
    "    leap = False\n",
    "    \n",
    "    # divided by 100 means century year\n",
    "    # century year divided by 400 is leap year\n",
    "    if (year % 400 == 0) and (year % 100 == 0):\n",
    "        \n",
    "       # change leap to True\n",
    "        leap = True\n",
    "\n",
    "    # not divided by 100 means not a century year\n",
    "    # year divided by 4 is a leap year\n",
    "    elif (year % 4 ==0) and (year % 100 != 0):\n",
    "        \n",
    "        #Change leap to true\n",
    "        leap = True\n",
    "\n",
    "    #else not a leap year\n",
    "    else:      \n",
    "        pass\n",
    "    \n",
    "    return leap"
   ]
  },
  {
   "cell_type": "code",
   "execution_count": 12,
   "id": "976f6a7b",
   "metadata": {},
   "outputs": [
    {
     "data": {
      "text/plain": [
       "True"
      ]
     },
     "execution_count": 12,
     "metadata": {},
     "output_type": "execute_result"
    }
   ],
   "source": [
    "is_leap(2016)\n",
    "is_leap(2017)"
   ]
  },
  {
   "cell_type": "code",
   "execution_count": 13,
   "id": "b6cc1e20",
   "metadata": {},
   "outputs": [],
   "source": [
    "def is_leap(year):\n",
    "    \n",
    "    # variable to check the leap year\n",
    "    leap = False\n",
    "    \n",
    "    # One if statement that contains multiple conditions\n",
    "    if ((year % 400 == 0) and (year % 100 == 0)) | ((year % 4 ==0) and (year % 100 != 0)):\n",
    "        \n",
    "       # change leap to True\n",
    "        leap = True\n",
    "\n",
    "    \n",
    "    return leap"
   ]
  },
  {
   "cell_type": "code",
   "execution_count": 19,
   "id": "19353b50",
   "metadata": {},
   "outputs": [
    {
     "data": {
      "text/plain": [
       "True"
      ]
     },
     "execution_count": 19,
     "metadata": {},
     "output_type": "execute_result"
    }
   ],
   "source": [
    "is_leap(2020)"
   ]
  },
  {
   "cell_type": "code",
   "execution_count": 20,
   "id": "873c9050",
   "metadata": {},
   "outputs": [],
   "source": [
    "def is_leap(year):\n",
    "    \n",
    "    # variable to check the leap year\n",
    "    leap = False\n",
    "    \n",
    "    # using nested if statements\n",
    "    if (year % 4) == 0:\n",
    "        if (year % 100) == 0:\n",
    "            if (year % 400) == 0:\n",
    "                leap = True\n",
    "            else:\n",
    "                leap = False\n",
    "        else:\n",
    "            leap = True\n",
    "    else:\n",
    "        leap = False\n",
    "    \n",
    "    return leap\n"
   ]
  },
  {
   "cell_type": "code",
   "execution_count": 21,
   "id": "57dbd46c",
   "metadata": {},
   "outputs": [
    {
     "data": {
      "text/plain": [
       "True"
      ]
     },
     "execution_count": 21,
     "metadata": {},
     "output_type": "execute_result"
    }
   ],
   "source": [
    "is_leap(2020)"
   ]
  },
  {
   "cell_type": "code",
   "execution_count": 24,
   "id": "506f570d",
   "metadata": {},
   "outputs": [],
   "source": [
    "# importing the module\n",
    "import calendar\n",
    "\n",
    "# function\n",
    "def is_leap(year):\n",
    "    \n",
    "    leap = False\n",
    "    \n",
    "    # checking for leap year\n",
    "    if calendar.isleap(year):\n",
    "        leap = True\n",
    "    \n",
    "    return leap"
   ]
  },
  {
   "cell_type": "code",
   "execution_count": 25,
   "id": "785c0414",
   "metadata": {},
   "outputs": [
    {
     "data": {
      "text/plain": [
       "True"
      ]
     },
     "execution_count": 25,
     "metadata": {},
     "output_type": "execute_result"
    }
   ],
   "source": [
    "is_leap(2020)"
   ]
  },
  {
   "cell_type": "code",
   "execution_count": null,
   "id": "aff692fa",
   "metadata": {},
   "outputs": [],
   "source": []
  }
 ],
 "metadata": {
  "kernelspec": {
   "display_name": "Python 3 (ipykernel)",
   "language": "python",
   "name": "python3"
  },
  "language_info": {
   "codemirror_mode": {
    "name": "ipython",
    "version": 3
   },
   "file_extension": ".py",
   "mimetype": "text/x-python",
   "name": "python",
   "nbconvert_exporter": "python",
   "pygments_lexer": "ipython3",
   "version": "3.9.12"
  }
 },
 "nbformat": 4,
 "nbformat_minor": 5
}
