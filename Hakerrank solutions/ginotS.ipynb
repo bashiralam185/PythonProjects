{
 "cells": [
  {
   "cell_type": "code",
   "execution_count": 3,
   "id": "c0bc3707",
   "metadata": {},
   "outputs": [
    {
     "name": "stdout",
     "output_type": "stream",
     "text": [
      "Bashir127alam\n",
      "aaahilmrsB172\n"
     ]
    }
   ],
   "source": [
    "# taking the input from user\n",
    "s = input()\n",
    "\n",
    "# using the lamnda function to filter and then sort\n",
    "s = sorted(s,key = lambda x:(x.isdigit() and int(x)%2==0, x.isdigit(),x.isupper(),x.islower(),x))\n",
    "\n",
    "# printing the sorted string\n",
    "print(*(s),sep = '')"
   ]
  },
  {
   "cell_type": "code",
   "execution_count": 4,
   "id": "ea364841",
   "metadata": {},
   "outputs": [
    {
     "name": "stdout",
     "output_type": "stream",
     "text": [
      "Sorting1234\n",
      "ginortS1324\n"
     ]
    }
   ],
   "source": [
    "\n",
    "# Taking input ,sorting and printing in one line\n",
    "print(*sorted(input(), key=lambda c: (c.isdigit() - c.islower(), c in '02468', c)), sep='')\n"
   ]
  },
  {
   "cell_type": "code",
   "execution_count": 5,
   "id": "02a1ed49",
   "metadata": {},
   "outputs": [
    {
     "name": "stdout",
     "output_type": "stream",
     "text": [
      "Sorting1234\n",
      "ginortS1324\n"
     ]
    }
   ],
   "source": [
    "# defining the string\n",
    "def sorting(s):\n",
    "    \n",
    "    # using the lamnda function to filter and then sort\n",
    "    s = sorted(s,key = lambda x:(x.isdigit() and int(x)%2==0, x.isdigit(),x.isupper(),x.islower(),x))\n",
    "\n",
    "    # printing the sorted string\n",
    "    print(*(s),sep = '')\n",
    "    \n",
    "# calling the function with input string\n",
    "sorting(input())\n",
    "    "
   ]
  },
  {
   "cell_type": "code",
   "execution_count": 6,
   "id": "2d06ace4",
   "metadata": {},
   "outputs": [
    {
     "name": "stdout",
     "output_type": "stream",
     "text": [
      "3 2\n",
      "1 5 3\n",
      "3 1\n",
      "5 7\n",
      "1\n"
     ]
    }
   ],
   "source": [
    "# importing the counter method\n",
    "from collections import Counter\n",
    "\n",
    "# using map method for mapping\n",
    "n, m = map(int, input().split())\n",
    "\n",
    "# convetring the mapping to list\n",
    "data = list(map(int, input().split()))\n",
    "\n",
    "# using conter method\n",
    "data_counter = Counter(data)\n",
    "data_set = set(data)\n",
    "\n",
    "# taking inputs from user\n",
    "set_a = set(map(int, input().split()))\n",
    "set_b = set(map(int, input().split()))\n",
    "\n",
    "# initializing happiness to 0\n",
    "happiness = 0\n",
    "\n",
    "# using for loop\n",
    "for i in data_set & set_a:\n",
    "    happiness += data_counter[i]\n",
    "for i in data_set & set_b:\n",
    "    happiness -= data_counter[i]\n",
    "    \n",
    "# printing the output\n",
    "print(happiness)"
   ]
  },
  {
   "cell_type": "code",
   "execution_count": 7,
   "id": "b1c10e90",
   "metadata": {},
   "outputs": [
    {
     "name": "stdout",
     "output_type": "stream",
     "text": [
      "3\n"
     ]
    },
    {
     "ename": "ValueError",
     "evalue": "not enough values to unpack (expected 2, got 1)",
     "output_type": "error",
     "traceback": [
      "\u001b[0;31m---------------------------------------------------------------------------\u001b[0m",
      "\u001b[0;31mValueError\u001b[0m                                Traceback (most recent call last)",
      "Input \u001b[0;32mIn [7]\u001b[0m, in \u001b[0;36m<cell line: 2>\u001b[0;34m()\u001b[0m\n\u001b[1;32m      5\u001b[0m     happiness \u001b[38;5;241m=\u001b[39m \u001b[38;5;241m0\u001b[39m\n\u001b[1;32m      7\u001b[0m \u001b[38;5;66;03m#     taking inputs from user\u001b[39;00m\n\u001b[0;32m----> 8\u001b[0m     n, m \u001b[38;5;241m=\u001b[39m \u001b[38;5;28mmap\u001b[39m(\u001b[38;5;28mint\u001b[39m, \u001b[38;5;28minput\u001b[39m()\u001b[38;5;241m.\u001b[39mstrip()\u001b[38;5;241m.\u001b[39msplit(\u001b[38;5;124m'\u001b[39m\u001b[38;5;124m \u001b[39m\u001b[38;5;124m'\u001b[39m))\n\u001b[1;32m      9\u001b[0m     arr \u001b[38;5;241m=\u001b[39m \u001b[38;5;28mlist\u001b[39m(\u001b[38;5;28mmap\u001b[39m(\u001b[38;5;28mint\u001b[39m, \u001b[38;5;28minput\u001b[39m()\u001b[38;5;241m.\u001b[39mstrip()\u001b[38;5;241m.\u001b[39msplit(\u001b[38;5;124m'\u001b[39m\u001b[38;5;124m \u001b[39m\u001b[38;5;124m'\u001b[39m)))\n\u001b[1;32m     11\u001b[0m \u001b[38;5;66;03m#     converting to set \u001b[39;00m\n",
      "\u001b[0;31mValueError\u001b[0m: not enough values to unpack (expected 2, got 1)"
     ]
    }
   ],
   "source": [
    "# using __name__ method\n",
    "if __name__ == \"__main__\":\n",
    "    \n",
    "#     initliazing the happiness to 1\n",
    "    happiness = 0\n",
    "    \n",
    "#     taking inputs from user\n",
    "    n, m = map(int, input().strip().split(' '))\n",
    "    arr = list(map(int, input().strip().split(' ')))\n",
    "    \n",
    "#     converting to set \n",
    "    good = set(map(int, input().strip().split(' ')))\n",
    "    bad = set(map(int, input().strip().split(' ')))\n",
    "    \n",
    "#     for loops\n",
    "    for i in arr:\n",
    "        if i in good:\n",
    "            happiness += 1\n",
    "        elif i in bad:\n",
    "            happiness -= 1\n",
    "            \n",
    "#     printing output\n",
    "    print(happiness)"
   ]
  },
  {
   "cell_type": "code",
   "execution_count": 8,
   "id": "a8c0af72",
   "metadata": {},
   "outputs": [
    {
     "name": "stdout",
     "output_type": "stream",
     "text": [
      "3 2\n",
      "1 5 3\n",
      "3 1\n",
      "5 7\n",
      "1\n"
     ]
    }
   ],
   "source": [
    "# defining the user defined function\n",
    "def main():\n",
    "    #     initliazing the happiness to 1\n",
    "    happiness = 0\n",
    "    \n",
    "#     taking inputs from user\n",
    "    n, m = map(int, input().strip().split(' '))\n",
    "    arr = list(map(int, input().strip().split(' ')))\n",
    "    \n",
    "#     converting to set \n",
    "    good = set(map(int, input().strip().split(' ')))\n",
    "    bad = set(map(int, input().strip().split(' ')))\n",
    "    \n",
    "#     for loops\n",
    "    for i in arr:\n",
    "        if i in good:\n",
    "            happiness += 1\n",
    "        elif i in bad:\n",
    "            happiness -= 1\n",
    "            \n",
    "#     printing output\n",
    "    print(happiness)\n",
    "    \n",
    "# calling the function\n",
    "main()"
   ]
  },
  {
   "cell_type": "code",
   "execution_count": 11,
   "id": "171a49ba",
   "metadata": {},
   "outputs": [
    {
     "name": "stdout",
     "output_type": "stream",
     "text": [
      "5\n",
      "1\n",
      "22\n",
      "333\n",
      "4444\n"
     ]
    }
   ],
   "source": [
    "# for loop which takes input value from user\n",
    "for i in range(1,int(input())):\n",
    "    \n",
    "    # printing the required output\n",
    "    print(i*((10**i-1)//9))"
   ]
  },
  {
   "cell_type": "code",
   "execution_count": null,
   "id": "637529d3",
   "metadata": {},
   "outputs": [],
   "source": []
  }
 ],
 "metadata": {
  "kernelspec": {
   "display_name": "Python 3 (ipykernel)",
   "language": "python",
   "name": "python3"
  },
  "language_info": {
   "codemirror_mode": {
    "name": "ipython",
    "version": 3
   },
   "file_extension": ".py",
   "mimetype": "text/x-python",
   "name": "python",
   "nbconvert_exporter": "python",
   "pygments_lexer": "ipython3",
   "version": "3.9.12"
  }
 },
 "nbformat": 4,
 "nbformat_minor": 5
}
