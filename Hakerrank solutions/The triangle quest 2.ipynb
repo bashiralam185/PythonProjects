{
 "cells": [
  {
   "cell_type": "code",
   "execution_count": 1,
   "id": "6c72a2a7",
   "metadata": {},
   "outputs": [
    {
     "name": "stdout",
     "output_type": "stream",
     "text": [
      "7\n",
      "1\n",
      "121\n",
      "12321\n",
      "1234321\n",
      "123454321\n",
      "12345654321\n",
      "1234567654321\n"
     ]
    }
   ],
   "source": [
    "# usig for loop which takes the input from user\n",
    "for i in range(1, int(input()) + 1): \n",
    "    \n",
    "    #printing the triangle of the number\n",
    "    print((10 ** i - 1) ** 2 // 81)"
   ]
  },
  {
   "cell_type": "code",
   "execution_count": 1,
   "id": "db18818f",
   "metadata": {},
   "outputs": [
    {
     "name": "stdout",
     "output_type": "stream",
     "text": [
      "5\n",
      "1\n",
      "121\n",
      "12321\n",
      "1234321\n",
      "123454321\n"
     ]
    }
   ],
   "source": [
    "# using for loop\n",
    "for i in range(1,int(input())+1): \n",
    "    \n",
    "    # changing the formula to get the same results\n",
    "    print (((10**i - 1)//9)**2)"
   ]
  },
  {
   "cell_type": "code",
   "execution_count": 2,
   "id": "21c93ac2",
   "metadata": {},
   "outputs": [
    {
     "name": "stdout",
     "output_type": "stream",
     "text": [
      "Sorting1234\n",
      "ginortS1324\n"
     ]
    }
   ],
   "source": [
    "print(*sorted(input(), key=lambda c: (c.isdigit() - c.islower(), c in '02468', c)), sep='')"
   ]
  },
  {
   "cell_type": "code",
   "execution_count": 4,
   "id": "a91d2a50",
   "metadata": {},
   "outputs": [
    {
     "name": "stdout",
     "output_type": "stream",
     "text": [
      "Sort1242\n",
      "ortS1224\n"
     ]
    }
   ],
   "source": [
    "# creating lists\n",
    "l = []\n",
    "u = []\n",
    "o = []\n",
    "e = []\n",
    "\n",
    "# using for loop in sorted string from user\n",
    "for i in sorted(input()):\n",
    "    \n",
    "    # checking is the character is alphabet\n",
    "    if i.isalpha():\n",
    "        \n",
    "        # Checking is the alphabet is upper letter or not\n",
    "        x = u if i.isupper() else l\n",
    "    \n",
    "    # if the character is not alphabet, this code will execute\n",
    "    else:\n",
    "        \n",
    "        # assigning accordingly\n",
    "        x = o if int(i)%2 else e\n",
    "        \n",
    "    # apending and joining all characters.\n",
    "    x.append(i)\n",
    "print(\"\".join(l+u+o+e))"
   ]
  },
  {
   "cell_type": "code",
   "execution_count": 6,
   "id": "88d4f69b",
   "metadata": {},
   "outputs": [
    {
     "name": "stdout",
     "output_type": "stream",
     "text": [
      "Sorting1234\n",
      "ginortS1324\n"
     ]
    }
   ],
   "source": [
    "string = str(input())\n",
    "res = list(string)\n",
    "arr = [0]*123\n",
    "fin = ''\n",
    "for i in list(map(ord, res)):\n",
    "    arr[i] += 1\n",
    "for i in range(97, 123):\n",
    "    for a in range(arr[i]):\n",
    "        fin+=chr(i)\n",
    "for i in range(65, 91):\n",
    "    for a in range(arr[i]):\n",
    "        fin+=chr(i)\n",
    "for i in range(49, 58, 2):\n",
    "    for a in range(arr[i]):\n",
    "        fin+=chr(i)\n",
    "for i in range(48, 57, 2):\n",
    "    for a in range(arr[i]):\n",
    "        fin+=chr(i)\n",
    "print(fin)"
   ]
  },
  {
   "cell_type": "code",
   "execution_count": 7,
   "id": "15b08b68",
   "metadata": {},
   "outputs": [
    {
     "name": "stdout",
     "output_type": "stream",
     "text": [
      "Sorting124\n",
      "ginortS124\n"
     ]
    }
   ],
   "source": [
    "print(*(sorted(input(), key=lambda x: (x.isdigit(), x.isdigit() and int(x)%2==0, x.isupper(), x.islower(), x))), sep='')"
   ]
  },
  {
   "cell_type": "code",
   "execution_count": 8,
   "id": "8dceeac9",
   "metadata": {},
   "outputs": [
    {
     "name": "stdout",
     "output_type": "stream",
     "text": [
      "sort\n",
      "orst\n"
     ]
    }
   ],
   "source": [
    "# definding the function\n",
    "def getKey(x):\n",
    "    \n",
    "    # using if else statemetns\n",
    "    if x.islower():\n",
    "        return(1,x)\n",
    "    elif x.isupper():\n",
    "        return(2,x)\n",
    "    elif x.isdigit() :\n",
    "        if int(x)%2==1:\n",
    "            return(3,x)\n",
    "        else :\n",
    "            return(4,x)\n",
    "\n",
    "# Calling the funtion with sorting\n",
    "print(*sorted(input(),key=getKey),sep='')"
   ]
  },
  {
   "cell_type": "code",
   "execution_count": 10,
   "id": "0b74534f",
   "metadata": {},
   "outputs": [
    {
     "name": "stdout",
     "output_type": "stream",
     "text": [
      "sort\n",
      "orst\n"
     ]
    }
   ],
   "source": [
    "# importing the module\n",
    "from string import ascii_lowercase, ascii_uppercase \n",
    "\n",
    "# sorting accordingly\n",
    "sortkey = ascii_lowercase + ascii_uppercase + \"1357902468\"\n",
    "\n",
    "# taking input from user\n",
    "x = input()\n",
    "\n",
    "# printing sorted string\n",
    "print(*map(lambda y: y * x.count(y), sortkey), sep='')"
   ]
  },
  {
   "cell_type": "code",
   "execution_count": null,
   "id": "90930209",
   "metadata": {},
   "outputs": [],
   "source": []
  }
 ],
 "metadata": {
  "kernelspec": {
   "display_name": "Python 3 (ipykernel)",
   "language": "python",
   "name": "python3"
  },
  "language_info": {
   "codemirror_mode": {
    "name": "ipython",
    "version": 3
   },
   "file_extension": ".py",
   "mimetype": "text/x-python",
   "name": "python",
   "nbconvert_exporter": "python",
   "pygments_lexer": "ipython3",
   "version": "3.9.12"
  }
 },
 "nbformat": 4,
 "nbformat_minor": 5
}
