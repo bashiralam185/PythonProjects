{
 "cells": [
  {
   "cell_type": "code",
   "execution_count": 1,
   "id": "552a271e",
   "metadata": {},
   "outputs": [
    {
     "name": "stdout",
     "output_type": "stream",
     "text": [
      "6\n",
      "4123456789123456\n",
      "Valid\n",
      "5123-4567-8912-3456\n",
      "Valid\n",
      "61234-567-8912-3456\n",
      "Invalid\n",
      "4123356789123456\n",
      "Valid\n",
      "5133-3367-8912-3456\n",
      "Invalid\n",
      "5123 - 3567 - 8912 - 3456\n",
      "Invalid\n"
     ]
    }
   ],
   "source": [
    "# importing the regular expression module\n",
    "import re\n",
    "\n",
    "# compile the patterns\n",
    "pattern = re.compile(\n",
    "    r'^'\n",
    "    r'(?!.*(\\d)(-?\\1){3})'\n",
    "    r'[456]\\d{3}'\n",
    "    r'(?:-?\\d{4}){3}'\n",
    "    r'$')\n",
    "\n",
    "# using for loop to the input from user \n",
    "for _ in range(int(input().strip())):\n",
    "    \n",
    "    #using pattern to search if the number is valid\n",
    "    print('Valid' if pattern.search(input().strip()) else 'Invalid')"
   ]
  },
  {
   "cell_type": "code",
   "execution_count": 2,
   "id": "049b5f83",
   "metadata": {},
   "outputs": [
    {
     "name": "stdout",
     "output_type": "stream",
     "text": [
      "1\n",
      "4123456789123456\n",
      "Valid\n"
     ]
    }
   ],
   "source": [
    "# importing module\n",
    "import re\n",
    "\n",
    "# taking input from user\n",
    "n = int(input())\n",
    "\n",
    "# iterating through the credit cards\n",
    "for t in range(n):\n",
    "    \n",
    "    #taking the credit card number from user\n",
    "    credit = input().strip()\n",
    "    credit_removed_hiphen = credit.replace('-','')\n",
    "    \n",
    "    # valid is true in the beggining\n",
    "    valid = True\n",
    "    \n",
    "    # using regual expressions\n",
    "    length_16 = bool(re.match(r'^[4-6]\\d{15}$',credit))\n",
    "    length_19 = bool(re.match(r'^[4-6]\\d{3}-\\d{4}-\\d{4}-\\d{4}$',credit))    \n",
    "    consecutive = bool(re.findall(r'(?=(\\d)\\1\\1\\1)',credit_removed_hiphen))\n",
    "    \n",
    "    # checking if the above regural expressions are true\n",
    "    if length_16 == True or length_19 == True:\n",
    "        if consecutive == True:\n",
    "            valid=False\n",
    "    else:\n",
    "        valid = False       \n",
    "    if valid == True:\n",
    "        print('Valid')\n",
    "    else:\n",
    "        print('Invalid')"
   ]
  },
  {
   "cell_type": "code",
   "execution_count": null,
   "id": "0027ffc5",
   "metadata": {},
   "outputs": [],
   "source": [
    "# importing the module\n",
    "import re\n",
    "\n",
    "\n",
    "# using for loop\n",
    "for i in range(int(input())):\n",
    "    \n",
    "    # taking the input credit card number\n",
    "    card = input()\n",
    "    \n",
    "    # using try block\n",
    "    try:\n",
    "        assert re.search(r'^[456]', card)\n",
    "        assert re.search(r'^(-?\\d{4}){4}$', card)\n",
    "        assert not re.search(r'(\\d)(-?\\1){3}', card)\n",
    "    \n",
    "    # exept block\n",
    "    except:\n",
    "        print('Invalid')\n",
    "    else:\n",
    "        print('Valid')"
   ]
  }
 ],
 "metadata": {
  "kernelspec": {
   "display_name": "Python 3 (ipykernel)",
   "language": "python",
   "name": "python3"
  },
  "language_info": {
   "codemirror_mode": {
    "name": "ipython",
    "version": 3
   },
   "file_extension": ".py",
   "mimetype": "text/x-python",
   "name": "python",
   "nbconvert_exporter": "python",
   "pygments_lexer": "ipython3",
   "version": "3.9.12"
  }
 },
 "nbformat": 4,
 "nbformat_minor": 5
}
