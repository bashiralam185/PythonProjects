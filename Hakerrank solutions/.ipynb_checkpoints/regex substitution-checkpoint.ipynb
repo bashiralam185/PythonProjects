{
 "cells": [
  {
   "cell_type": "code",
   "execution_count": 1,
   "id": "688164c8",
   "metadata": {},
   "outputs": [
    {
     "name": "stdout",
     "output_type": "stream",
     "text": [
      "11\n",
      "a = 1;\n",
      "a = 1;\n",
      "b = input();\n",
      "b = input();\n",
      "if a + b > 0 && a - b <0:\n",
      "if a + b > 0 and a - b <0:\n",
      "start()\n",
      "start()\n",
      "elif a*b > 10 || a/b <1:\n",
      "elif a*b > 10 or a/b <1:\n",
      "stop()\n",
      "stop()\n",
      "print set(list(a)) | set(list(b))\n",
      "print set(list(a)) | set(list(b))\n",
      "\n",
      "\n",
      "\n",
      "\n",
      "\n",
      "\n",
      "sdf\n",
      "sdf\n"
     ]
    }
   ],
   "source": [
    "# importing the module\n",
    "import re\n",
    "\n",
    "# using for loop\n",
    "for i in range(int(input())):\n",
    "    \n",
    "    # using re.sub method and taking input\n",
    "    s = re.sub(\"(?<=\\s)&&(?=\\s)\", \"and\", input())\n",
    "    \n",
    "    #printing the required output\n",
    "    print(re.sub(\"(?<=\\s)\\|\\|(?=\\s)\", \"or\", s))\n"
   ]
  },
  {
   "cell_type": "code",
   "execution_count": null,
   "id": "97633cc3",
   "metadata": {},
   "outputs": [],
   "source": []
  }
 ],
 "metadata": {
  "kernelspec": {
   "display_name": "Python 3 (ipykernel)",
   "language": "python",
   "name": "python3"
  },
  "language_info": {
   "codemirror_mode": {
    "name": "ipython",
    "version": 3
   },
   "file_extension": ".py",
   "mimetype": "text/x-python",
   "name": "python",
   "nbconvert_exporter": "python",
   "pygments_lexer": "ipython3",
   "version": "3.9.12"
  }
 },
 "nbformat": 4,
 "nbformat_minor": 5
}
