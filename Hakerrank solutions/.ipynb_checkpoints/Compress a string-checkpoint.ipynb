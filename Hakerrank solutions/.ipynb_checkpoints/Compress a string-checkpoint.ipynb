{
 "cells": [
  {
   "cell_type": "code",
   "execution_count": 3,
   "id": "ceb403b9",
   "metadata": {},
   "outputs": [
    {
     "name": "stdout",
     "output_type": "stream",
     "text": [
      "1222311\n",
      "(1, 1) (3, 2) (1, 3) (2, 1) "
     ]
    }
   ],
   "source": [
    "# importing the groupby method\n",
    "from itertools import groupby\n",
    "\n",
    "# creading a function\n",
    "def main(string):\n",
    "    \n",
    "    # using for loop to iterate through the string\n",
    "    for k, c in groupby(string):\n",
    "        \n",
    "        #printing the output\n",
    "        print(\"(%d, %d)\" % (len(list(c)), int(k)), end=' ')\n",
    "        \n",
    "# calling the function\n",
    "main(input())"
   ]
  },
  {
   "cell_type": "code",
   "execution_count": 4,
   "id": "20f84ec5",
   "metadata": {},
   "outputs": [
    {
     "name": "stdout",
     "output_type": "stream",
     "text": [
      "1222311\n",
      "(1, 1) (3, 2) (1, 3) (2, 1) "
     ]
    }
   ],
   "source": [
    "# importing the groupby method\n",
    "from itertools import groupby\n",
    "\n",
    "# using for loop to iterate through the string\n",
    "for k, c in groupby(input()):\n",
    "        \n",
    "    #printing the output\n",
    "    print(\"(%d, %d)\" % (len(list(c)), int(k)), end=' ')"
   ]
  },
  {
   "cell_type": "code",
   "execution_count": 5,
   "id": "576f10aa",
   "metadata": {},
   "outputs": [
    {
     "name": "stdout",
     "output_type": "stream",
     "text": [
      "1222311\n",
      "(1, 1) (3, 2) (1, 3) (2, 1) "
     ]
    }
   ],
   "source": [
    "# importing the required module\n",
    "from itertools import groupby\n",
    "\n",
    "# using if __name__ variable\n",
    "if __name__ == \"__main__\":\n",
    "    \n",
    "    # using for loop to iterate through the string\n",
    "    for k, c in groupby(input()):\n",
    "\n",
    "        #printing the output\n",
    "        print(\"(%d, %d)\" % (len(list(c)), int(k)), end=' ')"
   ]
  },
  {
   "cell_type": "code",
   "execution_count": null,
   "id": "83b7fe3e",
   "metadata": {},
   "outputs": [],
   "source": []
  }
 ],
 "metadata": {
  "kernelspec": {
   "display_name": "Python 3 (ipykernel)",
   "language": "python",
   "name": "python3"
  },
  "language_info": {
   "codemirror_mode": {
    "name": "ipython",
    "version": 3
   },
   "file_extension": ".py",
   "mimetype": "text/x-python",
   "name": "python",
   "nbconvert_exporter": "python",
   "pygments_lexer": "ipython3",
   "version": "3.9.12"
  }
 },
 "nbformat": 4,
 "nbformat_minor": 5
}
