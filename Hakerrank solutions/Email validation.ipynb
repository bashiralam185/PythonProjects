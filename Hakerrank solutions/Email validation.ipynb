{
 "cells": [
  {
   "cell_type": "code",
   "execution_count": 1,
   "id": "4efb53f7",
   "metadata": {},
   "outputs": [
    {
     "name": "stdout",
     "output_type": "stream",
     "text": [
      "3\n",
      "lara@hackerrank.com\n",
      "brian-23@hackerrank.com\n",
      "britts_54@hackerrank.com\n",
      "['brian-23@hackerrank.com', 'britts_54@hackerrank.com', 'lara@hackerrank.com']\n"
     ]
    }
   ],
   "source": [
    "def fun(email):\n",
    "    \n",
    "    #using try block\n",
    "    try:\n",
    "        \n",
    "        # splitting the name and url of the email adress\n",
    "        username, url = email.split('@')\n",
    "        website, extension = url.split('.')\n",
    "        \n",
    "   # raise error if the email is not valied     \n",
    "    except ValueError:\n",
    "        return False\n",
    "\n",
    "    # we are not replacing the - and _ \n",
    "    if username.replace('-', '').replace('_', '').isalnum() is False:\n",
    "        return False\n",
    "    \n",
    "    # checking if all characters are alphabets and numerics\n",
    "    elif website.isalnum() is False:\n",
    "        return False\n",
    "    \n",
    "    # checking if the length is less than 3\n",
    "    elif len(extension) > 3:\n",
    "        return False\n",
    "    else:\n",
    "        return True\n",
    "\n",
    "def filter_mail(emails):\n",
    "    return list(filter(fun, emails))\n",
    "\n",
    "if __name__ == '__main__':\n",
    "    n = int(input())\n",
    "    emails = []\n",
    "    for _ in range(n):\n",
    "        emails.append(input())\n",
    "\n",
    "filtered_emails = filter_mail(emails)\n",
    "filtered_emails.sort()\n",
    "print(filtered_emails)"
   ]
  },
  {
   "cell_type": "code",
   "execution_count": 2,
   "id": "119dc56d",
   "metadata": {},
   "outputs": [
    {
     "name": "stdout",
     "output_type": "stream",
     "text": [
      "3\n",
      "lara@hackerrank.com\n",
      "brian-23@hackerrank.com\n",
      "britts_54@hackerrank.com\n",
      "['brian-23@hackerrank.com', 'britts_54@hackerrank.com', 'lara@hackerrank.com']\n"
     ]
    }
   ],
   "source": [
    "# importing the regular expression module\n",
    "import re\n",
    "\n",
    "def fun(s):\n",
    "    # defining the patterns\n",
    "    pattern = re.compile(\"^[\\\\w-]+@[0-9a-zA-Z]+\\\\.[a-z]{1,3}$\")\n",
    "    \n",
    "    # returing if the email is valid\n",
    "    return pattern.match(s)\n",
    "\n",
    "\n",
    "def filter_mail(emails):\n",
    "    return list(filter(fun, emails))\n",
    "\n",
    "if __name__ == '__main__':\n",
    "    n = int(input())\n",
    "    emails = []\n",
    "    for _ in range(n):\n",
    "        emails.append(input())\n",
    "\n",
    "filtered_emails = filter_mail(emails)\n",
    "filtered_emails.sort()\n",
    "print(filtered_emails)"
   ]
  },
  {
   "cell_type": "code",
   "execution_count": null,
   "id": "09ef8067",
   "metadata": {},
   "outputs": [],
   "source": [
    "# importing the module\n",
    "import re\n",
    "\n",
    "def fun(s):    \n",
    "    \n",
    "    # using re.match function\n",
    "    a = re.match(r'[a-zA-Z0-9_-]+@[a-zA-Z0-9]+\\.[a-zA-Z]{1,3}$',s)\n",
    "    \n",
    "    #returning the email adress\n",
    "    return(a)\n",
    "\n",
    "def filter_mail(emails):\n",
    "    return list(filter(fun, emails))\n",
    "\n",
    "if __name__ == '__main__':\n",
    "    n = int(input())\n",
    "    emails = []\n",
    "    for _ in range(n):\n",
    "        emails.append(input())\n",
    "\n",
    "filtered_emails = filter_mail(emails)\n",
    "filtered_emails.sort()\n",
    "print(filtered_emails)"
   ]
  }
 ],
 "metadata": {
  "kernelspec": {
   "display_name": "Python 3 (ipykernel)",
   "language": "python",
   "name": "python3"
  },
  "language_info": {
   "codemirror_mode": {
    "name": "ipython",
    "version": 3
   },
   "file_extension": ".py",
   "mimetype": "text/x-python",
   "name": "python",
   "nbconvert_exporter": "python",
   "pygments_lexer": "ipython3",
   "version": "3.9.12"
  }
 },
 "nbformat": 4,
 "nbformat_minor": 5
}
