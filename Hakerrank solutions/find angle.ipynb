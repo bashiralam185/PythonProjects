{
 "cells": [
  {
   "cell_type": "code",
   "execution_count": 3,
   "id": "0ad2d6a6",
   "metadata": {},
   "outputs": [
    {
     "name": "stdout",
     "output_type": "stream",
     "text": [
      "10\n",
      "10\n",
      "45°\n"
     ]
    }
   ],
   "source": [
    "# importing the module\n",
    "import math\n",
    "\n",
    "# taking the input from user\n",
    "ab = float(input())\n",
    "bc = float(input())\n",
    "\n",
    "# finding the distance \n",
    "ac = math.sqrt((ab*ab)+(bc*bc))\n",
    "bm = ac / 2.0\n",
    "mc = bm\n",
    "\n",
    "#equalizing the sides \n",
    "b = mc\n",
    "c = bm\n",
    "a = bc\n",
    "\n",
    "#where b=c\n",
    "# finding the angle in radian\n",
    "angel_b_radian = math.acos(a / (2*b))\n",
    "\n",
    "# converting the radian to degree\n",
    "angel_b_degree = int(round((180 * angel_b_radian) / math.pi))\n",
    "\n",
    "# printing with degree\n",
    "print(angel_b_degree,'\\u00B0',sep='')"
   ]
  },
  {
   "cell_type": "code",
   "execution_count": 2,
   "id": "6bac32f0",
   "metadata": {},
   "outputs": [
    {
     "name": "stdout",
     "output_type": "stream",
     "text": [
      "10\n",
      "10\n",
      "45°\n"
     ]
    }
   ],
   "source": [
    "# importing the math module\n",
    "import math\n",
    "\n",
    "# taking input of the sides\n",
    "ab=int(input())\n",
    "bc=int(input())\n",
    "\n",
    "# finding the distance\n",
    "ca=math.hypot(ab,bc)\n",
    "mc=ca/2\n",
    "\n",
    "# finding the angle\n",
    "bca=math.asin(1*ab/ca)\n",
    "bm=math.sqrt((bc**2+mc**2)-(2*bc*mc*math.cos(bca)))\n",
    "mbc=math.asin(math.sin(bca)*mc/bm)\n",
    "\n",
    "# printing the angle\n",
    "print(int(round(math.degrees(mbc),0)),'\\u00B0',sep='')"
   ]
  },
  {
   "cell_type": "code",
   "execution_count": 6,
   "id": "5246cdf8",
   "metadata": {},
   "outputs": [
    {
     "name": "stdout",
     "output_type": "stream",
     "text": [
      "10\n",
      "10\n",
      "45°\n"
     ]
    }
   ],
   "source": [
    "# importing the module\n",
    "import math\n",
    "\n",
    "# taking input of the sides\n",
    "a = int(input())\n",
    "b = int(input())\n",
    "\n",
    "# calculating the lenths\n",
    "M = math.sqrt(a**2+b**2)\n",
    "\n",
    "# finding the angle\n",
    "theta = math.acos(b/M )\n",
    "\n",
    "# printing the angle\n",
    "print(int(round(math.degrees(theta),0)),'\\u00B0',sep='')"
   ]
  },
  {
   "cell_type": "code",
   "execution_count": 1,
   "id": "5110dbda",
   "metadata": {},
   "outputs": [
    {
     "name": "stdout",
     "output_type": "stream",
     "text": [
      "1\n",
      "1\n",
      "45°\n"
     ]
    }
   ],
   "source": [
    "# importing math\n",
    "import math\n",
    "\n",
    "# taking inputs\n",
    "a = int(input())\n",
    "b = int(input())\n",
    "\n",
    "# finding distace and angle\n",
    "M = math.sqrt(a**2+b**2)\n",
    "theta = math.acos(b/M )\n",
    "\n",
    "# printing the angle\n",
    "print(int(round(math.degrees(theta),0)),'\\u00B0',sep='')"
   ]
  },
  {
   "cell_type": "code",
   "execution_count": 2,
   "id": "2cc70f31",
   "metadata": {},
   "outputs": [
    {
     "name": "stdout",
     "output_type": "stream",
     "text": [
      "10\n",
      "10\n",
      "45°\n"
     ]
    }
   ],
   "source": [
    "# importing math\n",
    "import math\n",
    "\n",
    "# taking input from user\n",
    "AB,BC=int(input()),int(input())\n",
    "\n",
    "# calculating distance\n",
    "hype=math.hypot(AB,BC)      \n",
    "\n",
    "# calculating the angle\n",
    "res=round(math.degrees(math.acos(BC/hype))) \n",
    "\n",
    "# the 176 represents the degree symbol\n",
    "degree=chr(176)                          \n",
    "print(res,degree, sep='')"
   ]
  },
  {
   "cell_type": "code",
   "execution_count": 16,
   "id": "157fdd57",
   "metadata": {},
   "outputs": [
    {
     "name": "stdout",
     "output_type": "stream",
     "text": [
      "5\n",
      "1\n",
      "22\n",
      "333\n",
      "4444\n"
     ]
    }
   ],
   "source": [
    "# for loop which takes the input\n",
    "for i in range(1,int(input())):\n",
    "    \n",
    "    # printing the required triangle\n",
    "    print (i * int(bin(2**i - 1)[2:]))"
   ]
  },
  {
   "cell_type": "code",
   "execution_count": 17,
   "id": "c71a7747",
   "metadata": {},
   "outputs": [
    {
     "name": "stdout",
     "output_type": "stream",
     "text": [
      "5 3\n",
      "12\n",
      "21\n",
      "21\n",
      "0\n"
     ]
    }
   ],
   "source": [
    "# taking input\n",
    "n, m = input().split()\n",
    "sc_ar = input().split()\n",
    "\n",
    "# converting to set\n",
    "A = set(input().split())\n",
    "B = set(input().split())\n",
    "\n",
    "# printing using list comprehension\n",
    "print (sum([(i in A) - (i in B) for i in sc_ar]))"
   ]
  },
  {
   "cell_type": "markdown",
   "id": "53c189da",
   "metadata": {},
   "source": []
  },
  {
   "cell_type": "code",
   "execution_count": null,
   "id": "20f4c637",
   "metadata": {},
   "outputs": [],
   "source": [
    "# taking input from the user\n",
    "a=input().split(' ')\n",
    "l=([int(i) for i in input().split(' ')])\n",
    "\n",
    "# converting to set\n",
    "firstset=set([int(i) for i in input().split(' ')])\n",
    "secondset=set([int(i) for i in input().split(' ')])\n",
    "\n",
    "# initalizing with zero\n",
    "p=0\n",
    "\n",
    "# using for loop with if statements \n",
    "for i in l:\n",
    "    if i in firstset:\n",
    "        p+=1\n",
    "    if i in secondset:\n",
    "        p-=1\n",
    "        \n",
    "# printing\n",
    "print(p)\n"
   ]
  }
 ],
 "metadata": {
  "kernelspec": {
   "display_name": "Python 3 (ipykernel)",
   "language": "python",
   "name": "python3"
  },
  "language_info": {
   "codemirror_mode": {
    "name": "ipython",
    "version": 3
   },
   "file_extension": ".py",
   "mimetype": "text/x-python",
   "name": "python",
   "nbconvert_exporter": "python",
   "pygments_lexer": "ipython3",
   "version": "3.9.12"
  }
 },
 "nbformat": 4,
 "nbformat_minor": 5
}
