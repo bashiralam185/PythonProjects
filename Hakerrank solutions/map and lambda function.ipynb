{
 "cells": [
  {
   "cell_type": "code",
   "execution_count": 1,
   "id": "6e08fd3f",
   "metadata": {},
   "outputs": [
    {
     "name": "stdout",
     "output_type": "stream",
     "text": [
      "5\n",
      "[0, 1, 1, 8, 27]\n"
     ]
    }
   ],
   "source": [
    "# Lambda function to find the cube of function \n",
    "cube = lambda x: pow(x,3)\n",
    "\n",
    "\n",
    "def fibonacci(n):\n",
    "    # return a list of fibonacci numbers\n",
    "    lis = [0,1]\n",
    "    \n",
    "    # for loop starting from 2\n",
    "    for i in range(2,n):\n",
    "        lis.append(lis[i-2] + lis[i-1])\n",
    "    return(lis[0:n])\n",
    "\n",
    "\n",
    "if __name__ == '__main__':\n",
    "    n = int(input())\n",
    "    print(list(map(cube, fibonacci(n))))"
   ]
  },
  {
   "cell_type": "code",
   "execution_count": 3,
   "id": "53df93c5",
   "metadata": {},
   "outputs": [
    {
     "name": "stdout",
     "output_type": "stream",
     "text": [
      "5\n",
      "[0, 1, 1, 8, 27]\n"
     ]
    }
   ],
   "source": [
    "# lambda function to find the cube\n",
    "cube = lambda x: x ** 3\n",
    "\n",
    "def fibonacci(n):\n",
    "\n",
    "    # initializing the initial values\n",
    "    a, b, c = 0, 1, 1\n",
    "              \n",
    "    # using for loop\n",
    "    for i in range(n):\n",
    "        yield a\n",
    "        \n",
    "        # creating facbonacci series\n",
    "        a, b = b, a + b\n",
    "              \n",
    "if __name__ == '__main__':\n",
    "    n = int(input())\n",
    "    print(list(map(cube, fibonacci(n))))"
   ]
  },
  {
   "cell_type": "code",
   "execution_count": 4,
   "id": "9c51d3d5",
   "metadata": {},
   "outputs": [
    {
     "name": "stdout",
     "output_type": "stream",
     "text": [
      "5\n",
      "[0, 1, 1, 8, 27]\n"
     ]
    }
   ],
   "source": [
    "# lambda function to find the cube\n",
    "cube = lambda x: x ** 3\n",
    "\n",
    "def fibonacci(n):\n",
    "    \n",
    "    # creating the list of first two items\n",
    "    fib = [0, 1]\n",
    "    \n",
    "    # using list comprehension\n",
    "    [fib.append(sum(fib[-2:])) for x in range(n)]\n",
    "    return fib[:n]\n",
    "              \n",
    "if __name__ == '__main__':\n",
    "    n = int(input())\n",
    "    print(list(map(cube, fibonacci(n))))"
   ]
  },
  {
   "cell_type": "code",
   "execution_count": null,
   "id": "cf3e0566",
   "metadata": {},
   "outputs": [],
   "source": []
  }
 ],
 "metadata": {
  "kernelspec": {
   "display_name": "Python 3 (ipykernel)",
   "language": "python",
   "name": "python3"
  },
  "language_info": {
   "codemirror_mode": {
    "name": "ipython",
    "version": 3
   },
   "file_extension": ".py",
   "mimetype": "text/x-python",
   "name": "python",
   "nbconvert_exporter": "python",
   "pygments_lexer": "ipython3",
   "version": "3.9.12"
  }
 },
 "nbformat": 4,
 "nbformat_minor": 5
}
