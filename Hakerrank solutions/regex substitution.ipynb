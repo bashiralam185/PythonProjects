{
 "cells": [
  {
   "cell_type": "code",
   "execution_count": 3,
   "id": "2fe5d58e",
   "metadata": {},
   "outputs": [
    {
     "name": "stdout",
     "output_type": "stream",
     "text": [
      "1\n",
      "Do you like apples || orange && banana?\n",
      "Do you like apples or orange and banana?\n"
     ]
    }
   ],
   "source": [
    "# importing the module\n",
    "import re\n",
    "\n",
    "# using for loop\n",
    "for i in range(int(input())):\n",
    "    \n",
    "    # using re.sub method and taking input\n",
    "    s = re.sub(\"(?<=\\s)&&(?=\\s)\", \"and\", input())\n",
    "    \n",
    "    #printing the required output\n",
    "    print(re.sub(\"(?<=\\s)\\|\\|(?=\\s)\", \"or\", s))\n"
   ]
  },
  {
   "cell_type": "code",
   "execution_count": 4,
   "id": "2595dad8",
   "metadata": {
    "scrolled": true
   },
   "outputs": [
    {
     "name": "stdout",
     "output_type": "stream",
     "text": [
      "1\n",
      "Do you like apples || orange && banana?\n",
      "Do you like apples or orange and banana?\n"
     ]
    }
   ],
   "source": [
    "# importing the re module\n",
    "import re\n",
    "\n",
    "# using for loop\n",
    "for i in range(int(input())):\n",
    "    \n",
    "    # using re.sub method and lambda function\n",
    "    print(re.sub(r'(?<= )(&&|\\|\\|)(?= )', lambda x: 'and' if x.group() == '&&' else 'or', input()))"
   ]
  },
  {
   "cell_type": "code",
   "execution_count": null,
   "id": "f6b2ac64",
   "metadata": {},
   "outputs": [],
   "source": [
    "# importing the re module\n",
    "import re\n",
    "\n",
    "# taking input from user\n",
    "n = int(input())\n",
    "\n",
    "# using user defined function\n",
    "def check_replacement_required(match):\n",
    "    \n",
    "    # using if else statements to check\n",
    "    st = str(match.group(0))\n",
    "    if st == \"||\":\n",
    "        return \"or\"\n",
    "    elif st == \"&&\":\n",
    "        return \"and\"\n",
    "\n",
    "# using for loop to \n",
    "for i in range(n):\n",
    "    \n",
    "    # taking input from user and calling the function\n",
    "    s = input()\n",
    "    p = \"(?<=[ ])[|]{2}(?=[ ])|(?<=[ ])[&]{2}(?=[ ])\"\n",
    "    print(re.sub(p, check_replacement_required, s))"
   ]
  }
 ],
 "metadata": {
  "kernelspec": {
   "display_name": "Python 3 (ipykernel)",
   "language": "python",
   "name": "python3"
  },
  "language_info": {
   "codemirror_mode": {
    "name": "ipython",
    "version": 3
   },
   "file_extension": ".py",
   "mimetype": "text/x-python",
   "name": "python",
   "nbconvert_exporter": "python",
   "pygments_lexer": "ipython3",
   "version": "3.9.12"
  }
 },
 "nbformat": 4,
 "nbformat_minor": 5
}
