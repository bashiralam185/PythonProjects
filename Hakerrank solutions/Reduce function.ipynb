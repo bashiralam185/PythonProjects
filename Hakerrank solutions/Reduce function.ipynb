{
 "cells": [
  {
   "cell_type": "code",
   "execution_count": 1,
   "id": "a4da4b70",
   "metadata": {},
   "outputs": [
    {
     "name": "stdout",
     "output_type": "stream",
     "text": [
      "3\n",
      "1 2\n",
      "3 4\n",
      "10 6\n",
      "5 8\n"
     ]
    }
   ],
   "source": [
    "# importing the functions\n",
    "from fractions import Fraction\n",
    "from functools import reduce\n",
    "\n",
    "\n",
    "# defining the function\n",
    "def product(fracs):\n",
    "    \n",
    "    # using the reduce() method with lambda\n",
    "    t = Fraction(reduce(lambda x, y: x * y, fracs))\n",
    "    return t.numerator, t.denominator\n",
    "\n",
    "# the main function\n",
    "if __name__ == '__main__':\n",
    "    fracs = []\n",
    "    for _ in range(int(input())):\n",
    "        fracs.append(Fraction(*map(int, input().split())))\n",
    "    result = product(fracs)\n",
    "    print(*result)"
   ]
  },
  {
   "cell_type": "code",
   "execution_count": 2,
   "id": "6a112f51",
   "metadata": {},
   "outputs": [
    {
     "name": "stdout",
     "output_type": "stream",
     "text": [
      "3\n",
      "1 2\n",
      "3 4\n",
      "10 6\n",
      "5 8\n"
     ]
    }
   ],
   "source": [
    "# importing the functions\n",
    "from fractions import Fraction\n",
    "from functools import reduce\n",
    "\n",
    "# the function\n",
    "def product(fracs):\n",
    "    \n",
    "    # creating empty list\n",
    "    total = []\n",
    "    \n",
    "    # for loop to append numerator and denominator in list\n",
    "    for frac in fracs:\n",
    "        t = Fraction(frac.numerator, frac.denominator)\n",
    "        total.append(t)\n",
    "        \n",
    "    # using lambda and reduce function\n",
    "    res = reduce(lambda x,y : x*y, total)\n",
    "    return res.numerator, res.denominator\n",
    "    return t.numerator, t.denominator\n",
    "\n",
    "if __name__ == '__main__':\n",
    "    fracs = []\n",
    "    for _ in range(int(input())):\n",
    "        fracs.append(Fraction(*map(int, input().split())))\n",
    "    result = product(fracs)\n",
    "    print(*result)"
   ]
  },
  {
   "cell_type": "code",
   "execution_count": 4,
   "id": "0c44237f",
   "metadata": {},
   "outputs": [
    {
     "name": "stdout",
     "output_type": "stream",
     "text": [
      "3\n",
      "1 2 \n",
      "3 4\n",
      "10 6\n",
      "5 8\n"
     ]
    }
   ],
   "source": [
    "# importing the modules\n",
    "from fractions import Fraction\n",
    "from functools import reduce\n",
    "import math\n",
    "\n",
    "# creating function\n",
    "def product(fracs):\n",
    "    \n",
    "    # using lamda and reduce functions\n",
    "    t =reduce(lambda x,y: x*y,fracs)\n",
    "\n",
    "    # using if statement to print the denominator and numerator\n",
    "    if math.gcd(t.numerator, t.denominator) == 1:\n",
    "\n",
    "        return t.numerator, t.denominator\n",
    "\n",
    "if __name__ == '__main__':\n",
    "    fracs = []\n",
    "    for _ in range(int(input())):\n",
    "        fracs.append(Fraction(*map(int, input().split())))\n",
    "    result = product(fracs)\n",
    "    print(*result)"
   ]
  },
  {
   "cell_type": "code",
   "execution_count": null,
   "id": "d56c47f8",
   "metadata": {},
   "outputs": [],
   "source": []
  }
 ],
 "metadata": {
  "kernelspec": {
   "display_name": "Python 3 (ipykernel)",
   "language": "python",
   "name": "python3"
  },
  "language_info": {
   "codemirror_mode": {
    "name": "ipython",
    "version": 3
   },
   "file_extension": ".py",
   "mimetype": "text/x-python",
   "name": "python",
   "nbconvert_exporter": "python",
   "pygments_lexer": "ipython3",
   "version": "3.9.12"
  }
 },
 "nbformat": 4,
 "nbformat_minor": 5
}
