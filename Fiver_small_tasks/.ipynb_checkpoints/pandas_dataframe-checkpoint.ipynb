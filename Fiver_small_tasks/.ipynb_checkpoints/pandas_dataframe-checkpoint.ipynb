{
 "cells": [
  {
   "cell_type": "code",
   "execution_count": 2,
   "id": "5eae057b",
   "metadata": {},
   "outputs": [
    {
     "name": "stdout",
     "output_type": "stream",
     "text": [
      "Empty DataFrame\n",
      "Columns: []\n",
      "Index: []\n"
     ]
    }
   ],
   "source": [
    "# import pandas\n",
    "import pandas as pd  \n",
    "  \n",
    "# creating empty dataframe\n",
    "df = pd.DataFrame()  \n",
    "  \n",
    "# printing the dataframe\n",
    "print(df) "
   ]
  },
  {
   "cell_type": "code",
   "execution_count": 4,
   "id": "9de6e7d5",
   "metadata": {},
   "outputs": [
    {
     "name": "stdout",
     "output_type": "stream",
     "text": [
      "   values\n",
      "0       1\n",
      "1       2\n",
      "2       4\n",
      "3       5\n",
      "4       3\n",
      "5       6\n",
      "6       7\n"
     ]
    }
   ],
   "source": [
    "# initialize data points\n",
    "data_points = [1, 2, 4, 5, 3, 6, 7]\n",
    "  \n",
    "# initializing dataframe and giving the column name\n",
    "df = pd.DataFrame(data_points, columns=['values'])\n",
    "  \n",
    "print(df)"
   ]
  },
  {
   "cell_type": "code",
   "execution_count": 6,
   "id": "27eeef4e",
   "metadata": {},
   "outputs": [
    {
     "name": "stdout",
     "output_type": "stream",
     "text": [
      "<class 'pandas.core.frame.DataFrame'>\n"
     ]
    }
   ],
   "source": [
    "# printing the type \n",
    "print(type(df))"
   ]
  },
  {
   "cell_type": "code",
   "execution_count": 7,
   "id": "67e5d540",
   "metadata": {},
   "outputs": [
    {
     "name": "stdout",
     "output_type": "stream",
     "text": [
      "1\n",
      "2\n",
      "3\n",
      "4\n",
      "5\n",
      "6\n",
      "7\n",
      "8\n",
      "9\n"
     ]
    }
   ],
   "source": [
    "# for loop to print numbers\n",
    "for i in range(1, 10):\n",
    "    print(i)\n",
    "    "
   ]
  },
  {
   "cell_type": "code",
   "execution_count": 11,
   "id": "ef74ae1a",
   "metadata": {},
   "outputs": [
    {
     "name": "stdout",
     "output_type": "stream",
     "text": [
      "   column_1\n",
      "0         0\n",
      "1         1\n",
      "2         2\n",
      "3         3\n",
      "4         4\n",
      "5         5\n",
      "6         6\n",
      "7         7\n",
      "8         8\n",
      "9         9\n"
     ]
    }
   ],
   "source": [
    "# creating a list for the rows\n",
    "rows = []\n",
    "\n",
    "# using for loop to append values in rows\n",
    "for i in range(10):\n",
    "    \n",
    "    #appending the values to the row\n",
    "     rows.append(i)\n",
    "        \n",
    "# converting the list into dataframe\n",
    "df = pd.DataFrame(rows, columns=[\"column_1\"])\n",
    "print(df)"
   ]
  },
  {
   "cell_type": "code",
   "execution_count": 12,
   "id": "57038371",
   "metadata": {},
   "outputs": [
    {
     "name": "stdout",
     "output_type": "stream",
     "text": [
      "   column_1  column_2  column_3\n",
      "0         1         1         0\n",
      "1         2         2         1\n",
      "2         3         3         2\n",
      "3         4         4         3\n",
      "4         5         5         4\n",
      "5         6         6         5\n",
      "6         7         7         6\n",
      "7         8         8         7\n",
      "8         9         9         8\n",
      "9        10        10         9\n"
     ]
    }
   ],
   "source": [
    "# creating a list for the rows\n",
    "rows = []\n",
    "\n",
    "# using for loop to append values in rows\n",
    "for i in range(10):\n",
    "    \n",
    "    #appending the values to the row\n",
    "     rows.append([i+1, i + 1, i])\n",
    "        \n",
    "# converting the list into dataframe\n",
    "df = pd.DataFrame(rows, columns=[\"column_1\", \"column_2\", \"column_3\"])\n",
    "print(df)"
   ]
  },
  {
   "cell_type": "code",
   "execution_count": 17,
   "id": "98443810",
   "metadata": {},
   "outputs": [
    {
     "name": "stdout",
     "output_type": "stream",
     "text": [
      "   column_1  column_2\n",
      "0         0         0\n",
      "1         1         1\n",
      "2         2         4\n",
      "3         3         9\n",
      "4         4        16\n",
      "5         5        25\n",
      "6         6        36\n",
      "7         7        49\n",
      "8         8        64\n",
      "9         9        81\n"
     ]
    }
   ],
   "source": [
    "# list comprehension method\n",
    "L = [[i, i*i] for i in range(10)]\n",
    " \n",
    "# converting the list into dataframe\n",
    "df = pd.DataFrame(L, columns=[\"column_1\", \"column_2\"])\n",
    "print(df)"
   ]
  },
  {
   "cell_type": "code",
   "execution_count": 30,
   "id": "296ee80f",
   "metadata": {},
   "outputs": [
    {
     "name": "stdout",
     "output_type": "stream",
     "text": [
      "   Column_1  column_2  column_3\n",
      "0         0         1         4\n",
      "1         1         2         3\n",
      "2         0         1         2\n"
     ]
    }
   ],
   "source": [
    "# creating a dataframe \n",
    "df = pd.DataFrame(columns=[\"Column_1\", \"column_2\", \"column_3\"])\n",
    "\n",
    "# using for loop to iterate\n",
    "for i in range(3):\n",
    "    column = df.columns[i]\n",
    "    df[column] = [i*i, i+1, i]\n",
    "    \n",
    "# printing\n",
    "print(df)"
   ]
  },
  {
   "cell_type": "code",
   "execution_count": null,
   "id": "15bac9a2",
   "metadata": {},
   "outputs": [],
   "source": []
  }
 ],
 "metadata": {
  "kernelspec": {
   "display_name": "Python 3 (ipykernel)",
   "language": "python",
   "name": "python3"
  },
  "language_info": {
   "codemirror_mode": {
    "name": "ipython",
    "version": 3
   },
   "file_extension": ".py",
   "mimetype": "text/x-python",
   "name": "python",
   "nbconvert_exporter": "python",
   "pygments_lexer": "ipython3",
   "version": "3.9.12"
  }
 },
 "nbformat": 4,
 "nbformat_minor": 5
}
