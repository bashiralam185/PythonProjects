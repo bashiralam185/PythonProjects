{
 "cells": [
  {
   "cell_type": "code",
   "execution_count": 2,
   "id": "0054c0fe",
   "metadata": {},
   "outputs": [],
   "source": [
    "# importing the required modules\n",
    "from sklearn.datasets import load_breast_cancer\n",
    "from sklearn.neighbors import KNeighborsClassifier\n",
    "from sklearn.model_selection import train_test_split\n",
    "# loading the data\n",
    "cancer = load_breast_cancer()\n",
    "# spliting dataset into testing and training parts. \n",
    "X_train, X_test, Y_train, Y_test = train_test_split(cancer.data,cancer.target, test_size=0.3)\n",
    "\n",
    "# training the knn model on training parts\n",
    "knn = KNeighborsClassifier()\n",
    "knn.fit(X_train, Y_train)\n",
    "\n",
    "# making predictions on the testing dataset\n",
    "y_pred = knn.predict(X_test)\n",
    "\n"
   ]
  },
  {
   "cell_type": "code",
   "execution_count": 6,
   "id": "b000089d",
   "metadata": {},
   "outputs": [
    {
     "data": {
      "image/png": "[encoded data removed]",
      "text/plain": [
       "<Figure size 432x288 with 2 Axes>"
      ]
     },
     "metadata": {
      "needs_background": "light"
     },
     "output_type": "display_data"
    }
   ],
   "source": [
    "# importing seaborn and matplotlib\n",
    "import seaborn as sns\n",
    "import matplotlib.pyplot as plt\n",
    "\n",
    "\n",
    "# Making the Confusion Matrix\n",
    "from sklearn.metrics import confusion_matrix\n",
    "\n",
    "# providing actual and predicted values\n",
    "cm = confusion_matrix(Y_test, y_pred)\n",
    "\n",
    "# If True, write the data value in each cell\n",
    "sns.heatmap(cm,annot=True)\n",
    "\n",
    "# saving confusion matrix in png form\n",
    "plt.savefig('confusion_Matrix.png')"
   ]
  },
  {
   "cell_type": "code",
   "execution_count": 10,
   "id": "4bc9cede",
   "metadata": {},
   "outputs": [
    {
     "name": "stdout",
     "output_type": "stream",
     "text": [
      "              precision    recall  f1-score   support\n",
      "\n",
      "           0       0.95      0.91      0.93        66\n",
      "           1       0.94      0.97      0.96       105\n",
      "\n",
      "    accuracy                           0.95       171\n",
      "   macro avg       0.95      0.94      0.94       171\n",
      "weighted avg       0.95      0.95      0.95       171\n",
      "\n"
     ]
    }
   ],
   "source": [
    "\n",
    "# finding the whole report\n",
    "from sklearn.metrics import classification_report\n",
    "print(classification_report(Y_test, y_pred))"
   ]
  },
  {
   "cell_type": "code",
   "execution_count": 13,
   "id": "7e59d1e5",
   "metadata": {},
   "outputs": [],
   "source": [
    "# importing the required modules\n",
    "from sklearn import datasets\n",
    "from sklearn.neighbors import KNeighborsClassifier\n",
    "from sklearn.model_selection import train_test_split\n",
    "\n",
    "iris = datasets.load_iris()\n",
    "\n",
    "# spliting dataset into testing and training parts. \n",
    "X_train, X_test, Y_train, Y_test = train_test_split(iris.data,iris.target, test_size=0.3)\n",
    "\n",
    "# training the knn model on training parts\n",
    "knn = KNeighborsClassifier()\n",
    "knn.fit(X_train, Y_train)\n",
    "\n",
    "# making predictions on the testing dataset\n",
    "y_pred = knn.predict(X_test)"
   ]
  },
  {
   "cell_type": "code",
   "execution_count": 14,
   "id": "73da0a9c",
   "metadata": {},
   "outputs": [
    {
     "data": {
      "image/png": "[encoded data removed]",
      "text/plain": [
       "<Figure size 432x288 with 2 Axes>"
      ]
     },
     "metadata": {
      "needs_background": "light"
     },
     "output_type": "display_data"
    }
   ],
   "source": [
    "# importing seaborn and matplotlib\n",
    "import seaborn as sns\n",
    "import matplotlib.pyplot as plt\n",
    "\n",
    "\n",
    "# Making the Confusion Matrix\n",
    "from sklearn.metrics import confusion_matrix\n",
    "\n",
    "# providing actual and predicted values\n",
    "cm = confusion_matrix(Y_test, y_pred)\n",
    "\n",
    "# If True, write the data value in each cell\n",
    "sns.heatmap(cm,annot=True)\n",
    "\n",
    "# saving confusion matrix in png form\n",
    "plt.savefig('confusion_Matrix.png')"
   ]
  },
  {
   "cell_type": "code",
   "execution_count": 15,
   "id": "8e1c1278",
   "metadata": {},
   "outputs": [
    {
     "name": "stdout",
     "output_type": "stream",
     "text": [
      "              precision    recall  f1-score   support\n",
      "\n",
      "           0       1.00      1.00      1.00        14\n",
      "           1       0.88      1.00      0.93        14\n",
      "           2       1.00      0.88      0.94        17\n",
      "\n",
      "    accuracy                           0.96        45\n",
      "   macro avg       0.96      0.96      0.96        45\n",
      "weighted avg       0.96      0.96      0.96        45\n",
      "\n"
     ]
    }
   ],
   "source": [
    "# finding the whole report\n",
    "from sklearn.metrics import classification_report\n",
    "print(classification_report(Y_test, y_pred))"
   ]
  },
  {
   "cell_type": "code",
   "execution_count": null,
   "id": "111e6601",
   "metadata": {},
   "outputs": [],
   "source": []
  }
 ],
 "metadata": {
  "kernelspec": {
   "display_name": "Python 3 (ipykernel)",
   "language": "python",
   "name": "python3"
  },
  "language_info": {
   "codemirror_mode": {
    "name": "ipython",
    "version": 3
   },
   "file_extension": ".py",
   "mimetype": "text/x-python",
   "name": "python",
   "nbconvert_exporter": "python",
   "pygments_lexer": "ipython3",
   "version": "3.9.12"
  }
 },
 "nbformat": 4,
 "nbformat_minor": 5
}
