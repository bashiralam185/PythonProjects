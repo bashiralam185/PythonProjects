{
 "cells": [
  {
   "cell_type": "code",
   "execution_count": 4,
   "id": "b428a51b",
   "metadata": {},
   "outputs": [
    {
     "ename": "TypeError",
     "evalue": "can't multiply sequence by non-int of type 'list'",
     "output_type": "error",
     "traceback": [
      "\u001b[0;31m---------------------------------------------------------------------------\u001b[0m",
      "\u001b[0;31mTypeError\u001b[0m                                 Traceback (most recent call last)",
      "\u001b[0;32m/tmp/ipykernel_27864/3398891339.py\u001b[0m in \u001b[0;36m<module>\u001b[0;34m\u001b[0m\n\u001b[1;32m      2\u001b[0m \u001b[0mlist2\u001b[0m \u001b[0;34m=\u001b[0m \u001b[0;34m[\u001b[0m\u001b[0;36m4\u001b[0m\u001b[0;34m,\u001b[0m\u001b[0;36m5\u001b[0m\u001b[0;34m,\u001b[0m\u001b[0;36m6\u001b[0m\u001b[0;34m,\u001b[0m\u001b[0;36m7\u001b[0m\u001b[0;34m]\u001b[0m\u001b[0;34m\u001b[0m\u001b[0;34m\u001b[0m\u001b[0m\n\u001b[1;32m      3\u001b[0m \u001b[0;34m\u001b[0m\u001b[0m\n\u001b[0;32m----> 4\u001b[0;31m \u001b[0mlist3\u001b[0m \u001b[0;34m=\u001b[0m \u001b[0mlist1\u001b[0m \u001b[0;34m*\u001b[0m \u001b[0mlist2\u001b[0m\u001b[0;34m\u001b[0m\u001b[0;34m\u001b[0m\u001b[0m\n\u001b[0m\u001b[1;32m      5\u001b[0m \u001b[0;34m\u001b[0m\u001b[0m\n\u001b[1;32m      6\u001b[0m \u001b[0mprint\u001b[0m\u001b[0;34m(\u001b[0m\u001b[0mlist3\u001b[0m\u001b[0;34m)\u001b[0m\u001b[0;34m\u001b[0m\u001b[0;34m\u001b[0m\u001b[0m\n",
      "\u001b[0;31mTypeError\u001b[0m: can't multiply sequence by non-int of type 'list'"
     ]
    }
   ],
   "source": [
    "list1 = [1,2,3,4]\n",
    "list2 = [4,5,6,7]\n",
    "\n",
    "list3 = list1 * list2\n",
    "\n",
    "print(list3)"
   ]
  },
  {
   "cell_type": "code",
   "execution_count": 5,
   "id": "7a843841",
   "metadata": {},
   "outputs": [
    {
     "name": "stdout",
     "output_type": "stream",
     "text": [
      "A\n"
     ]
    }
   ],
   "source": [
    "list1 = ['A', 'B', 'C', 'D', 'E', 'F']\n",
    "\n",
    "first_element = list1[0]\n",
    "\n",
    "print(first_element)"
   ]
  },
  {
   "cell_type": "code",
   "execution_count": 7,
   "id": "9bf3f17d",
   "metadata": {},
   "outputs": [
    {
     "name": "stdout",
     "output_type": "stream",
     "text": [
      "F\n"
     ]
    }
   ],
   "source": [
    "list1 = ['A', 'B', 'C', 'D', 'E', 'F']\n",
    "\n",
    "last_element = list1[-1]\n",
    "\n",
    "print(first_element)"
   ]
  },
  {
   "cell_type": "code",
   "execution_count": 10,
   "id": "7e35bfb8",
   "metadata": {},
   "outputs": [
    {
     "name": "stdout",
     "output_type": "stream",
     "text": [
      "F\n"
     ]
    }
   ],
   "source": [
    "list1 = [['A', 'B', 'C'], ['D', 'E', 'F'] ,['G', \"H\"]]\n",
    "\n",
    "first_element = list1[1][-1]\n",
    "\n",
    "print(first_element)"
   ]
  },
  {
   "cell_type": "code",
   "execution_count": 1,
   "id": "b21af430",
   "metadata": {},
   "outputs": [
    {
     "name": "stdout",
     "output_type": "stream",
     "text": [
      "[1, 2, 3]\n"
     ]
    }
   ],
   "source": [
    "list1 = [1,2,3,4,5,6,7,8,9]\n",
    "\n",
    "#slicing the list\n",
    "sliced = list1[0:3]\n",
    "\n",
    "print(sliced)"
   ]
  },
  {
   "cell_type": "code",
   "execution_count": 2,
   "id": "f00547f7",
   "metadata": {},
   "outputs": [
    {
     "name": "stdout",
     "output_type": "stream",
     "text": [
      "[6, 7, 8, 9]\n"
     ]
    }
   ],
   "source": [
    "list1 = [1,2,3,4,5,6,7,8,9]\n",
    "\n",
    "#slicing the list\n",
    "sliced = list1[-4:]\n",
    "\n",
    "print(sliced)"
   ]
  },
  {
   "cell_type": "code",
   "execution_count": 11,
   "id": "a28bc42d",
   "metadata": {},
   "outputs": [
    {
     "name": "stdout",
     "output_type": "stream",
     "text": [
      "[8, 9]\n"
     ]
    }
   ],
   "source": [
    "list1 = [[1,2],[3,4],[5,6],[7,8,9]]\n",
    "\n",
    "#slicing the list\n",
    "sliced = list1[-2:][1][-2:]\n",
    "\n",
    "print(sliced)"
   ]
  },
  {
   "cell_type": "code",
   "execution_count": 12,
   "id": "2cc816c1",
   "metadata": {},
   "outputs": [
    {
     "name": "stdout",
     "output_type": "stream",
     "text": [
      "[10, 20, 30, 40]\n"
     ]
    }
   ],
   "source": [
    "# empty list\n",
    "list1 =[]\n",
    "\n",
    "# adding elements\n",
    "list1.append(10)\n",
    "list1.append(20)\n",
    "list1.append(30)\n",
    "list1.append(40)\n",
    "\n",
    "print(list1)"
   ]
  },
  {
   "cell_type": "code",
   "execution_count": 13,
   "id": "2c4c47cf",
   "metadata": {},
   "outputs": [
    {
     "name": "stdout",
     "output_type": "stream",
     "text": [
      "[1, 2, 'Bashir', 3, 4, 5, 6, 7, 8, 9]\n"
     ]
    }
   ],
   "source": [
    "list1 = [1,2,3,4,5,6,7,8,9]\n",
    "\n",
    "# inserting new element\n",
    "list1.insert(2, 'Bashir')\n",
    "\n",
    "print(list1)"
   ]
  },
  {
   "cell_type": "code",
   "execution_count": 26,
   "id": "738432a9",
   "metadata": {},
   "outputs": [
    {
     "data": {
      "text/plain": [
       "[1, 2, 3, 4, 5, 6, 7, 8, 9, 10, 20, 30, 40]"
      ]
     },
     "execution_count": 26,
     "metadata": {},
     "output_type": "execute_result"
    }
   ],
   "source": [
    "list1 = [1,2,3,4,5,6,7,8,9]\n",
    "list2 = [10, 20, 30, 40]\n",
    "\n",
    "# extend method\n",
    "list1.extend(list2)\n",
    "\n",
    "list1\n"
   ]
  },
  {
   "cell_type": "code",
   "execution_count": 24,
   "id": "851f8d88",
   "metadata": {},
   "outputs": [
    {
     "name": "stdout",
     "output_type": "stream",
     "text": [
      "The list elements are :\n"
     ]
    },
    {
     "data": {
      "text/plain": [
       "['html', 'CSS', 'JavaScript', 'JQuery', 'PHP', 'Laravel', 'CodeIgniter']"
      ]
     },
     "execution_count": 24,
     "metadata": {},
     "output_type": "execute_result"
    }
   ],
   "source": [
    "# initializing the first list\n",
    "list1 = ['html', 'CSS', 'JavaScript', 'JQuery']\n",
    "\n",
    "# initializing the second list\n",
    "list2 = ['PHP', 'Laravel', 'CodeIgniter']\n",
    "\n",
    "# Combine both lists using extend() method\n",
    "list1.extend(list2)\n",
    "\n",
    "# Display the list after combing\n",
    "print (\"The list elements are :\")\n",
    "list1"
   ]
  },
  {
   "cell_type": "code",
   "execution_count": 27,
   "id": "6f5c31b8",
   "metadata": {},
   "outputs": [
    {
     "name": "stdout",
     "output_type": "stream",
     "text": [
      "[1, 2, 3, 4, 5, 6, 7, 8, 9]\n"
     ]
    }
   ],
   "source": [
    "list1 = [1,2, 'Bashir',3,4,5,6,7,8,9]\n",
    "\n",
    "# removing elements\n",
    "list1.remove('Bashir')\n",
    "\n",
    "print(list1)\n"
   ]
  },
  {
   "cell_type": "code",
   "execution_count": 28,
   "id": "efb0f34f",
   "metadata": {},
   "outputs": [
    {
     "name": "stdout",
     "output_type": "stream",
     "text": [
      "[1, 2, 3, 4, 5, 6, 7, 8, 9]\n"
     ]
    }
   ],
   "source": [
    "list1 = [1,2, 'Bashir',3,4,5,6,7,8,9]\n",
    "\n",
    "# removing elements\n",
    "list1.pop(2)\n",
    "\n",
    "print(list1)"
   ]
  },
  {
   "cell_type": "code",
   "execution_count": 29,
   "id": "650e471a",
   "metadata": {},
   "outputs": [
    {
     "name": "stdout",
     "output_type": "stream",
     "text": [
      "[1, 2, 3, 4, 5, 6, 7, 8, 9]\n"
     ]
    }
   ],
   "source": [
    "list1 = [1,2, 'Bashir',3,4,5,6,7,8,9]\n",
    "\n",
    "# deleting element\n",
    "del list1[2]\n",
    "\n",
    "print(list1)"
   ]
  },
  {
   "cell_type": "code",
   "execution_count": 31,
   "id": "bb17fa65",
   "metadata": {},
   "outputs": [
    {
     "name": "stdout",
     "output_type": "stream",
     "text": [
      "Bashir Alam\n"
     ]
    }
   ],
   "source": [
    "str1 ='Bashir '\n",
    "str2 = 'Alam'\n",
    "\n",
    "str3 = str1+str2\n",
    "\n",
    "print(str3)"
   ]
  },
  {
   "cell_type": "code",
   "execution_count": 32,
   "id": "d7f4fe3e",
   "metadata": {},
   "outputs": [
    {
     "name": "stdout",
     "output_type": "stream",
     "text": [
      "First element is : T\n",
      "Last element is : e\n"
     ]
    }
   ],
   "source": [
    "str1 ='This is me'\n",
    "\n",
    "first_element = str1[0]\n",
    "last_element = str1[-1]\n",
    "\n",
    "print('First element is :', first_element)\n",
    "print('Last element is :', last_element)"
   ]
  },
  {
   "cell_type": "code",
   "execution_count": 34,
   "id": "892c5ba6",
   "metadata": {},
   "outputs": [
    {
     "name": "stdout",
     "output_type": "stream",
     "text": [
      "Alam\n"
     ]
    }
   ],
   "source": [
    "str1 ='Bashir Alam'\n",
    "\n",
    "# slicing\n",
    "last_name = str1[-4:]\n",
    "\n",
    "print(last_name)"
   ]
  },
  {
   "cell_type": "code",
   "execution_count": null,
   "id": "a6edea19",
   "metadata": {},
   "outputs": [],
   "source": []
  },
  {
   "cell_type": "code",
   "execution_count": 36,
   "id": "ad265cb0",
   "metadata": {},
   "outputs": [
    {
     "name": "stdout",
     "output_type": "stream",
     "text": [
      "{'one': 10, 'two': 2, 'three': 3, 'four': 4, 'five': 5}\n"
     ]
    }
   ],
   "source": [
    "Dic1 = {'one': 1, \"two\":2, \"three\":3}\n",
    "Dic2 = {'one': 10, \"four\":4, \"five\":5}\n",
    "\n",
    "# updating the dic1\n",
    "Dic1.update(Dic2)\n",
    "\n",
    "print(Dic1)"
   ]
  },
  {
   "cell_type": "code",
   "execution_count": 37,
   "id": "31b4e4d2",
   "metadata": {},
   "outputs": [
    {
     "name": "stdout",
     "output_type": "stream",
     "text": [
      "Keys:  dict_keys(['one', 'two', 'three'])\n",
      "Values:  dict_values([1, 2, 3])\n"
     ]
    }
   ],
   "source": [
    "Dic1 = {'one': 1, \"two\":2, \"three\":3}\n",
    "\n",
    "# getting keys\n",
    "keys = Dic1.keys()\n",
    "\n",
    "#getting values\n",
    "values = Dic1.values()\n",
    "\n",
    "print('Keys: ', keys)\n",
    "print('Values: ', values)"
   ]
  },
  {
   "cell_type": "code",
   "execution_count": 38,
   "id": "65745f41",
   "metadata": {},
   "outputs": [
    {
     "name": "stdout",
     "output_type": "stream",
     "text": [
      "dict_items([('one', 1), ('two', 2), ('three', 3)])\n"
     ]
    }
   ],
   "source": [
    "Dic1 = {'one': 1, \"two\":2, \"three\":3}\n",
    "\n",
    "# getting items\n",
    "items = Dic1.items()\n",
    "\n",
    "print(items)"
   ]
  },
  {
   "cell_type": "code",
   "execution_count": null,
   "id": "25a13800",
   "metadata": {},
   "outputs": [],
   "source": []
  }
 ],
 "metadata": {
  "kernelspec": {
   "display_name": "Python 3 (ipykernel)",
   "language": "python",
   "name": "python3"
  },
  "language_info": {
   "codemirror_mode": {
    "name": "ipython",
    "version": 3
   },
   "file_extension": ".py",
   "mimetype": "text/x-python",
   "name": "python",
   "nbconvert_exporter": "python",
   "pygments_lexer": "ipython3",
   "version": "3.10.6"
  }
 },
 "nbformat": 4,
 "nbformat_minor": 5
}
