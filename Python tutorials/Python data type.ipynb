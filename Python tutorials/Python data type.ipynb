{
 "cells": [
  {
   "cell_type": "code",
   "execution_count": 1,
   "id": "0b92ecbe",
   "metadata": {},
   "outputs": [
    {
     "name": "stdout",
     "output_type": "stream",
     "text": [
      "Data type of var1 is :  <class 'int'>\n",
      "Data type of var2 is :  <class 'float'>\n"
     ]
    }
   ],
   "source": [
    "var1 = 10\n",
    "var2 = 3.3\n",
    "\n",
    "print('Data type of var1 is : ', type(var1))\n",
    "print('Data type of var2 is : ', type(var2))"
   ]
  },
  {
   "cell_type": "code",
   "execution_count": 2,
   "id": "ac2aa2ed",
   "metadata": {},
   "outputs": [
    {
     "name": "stdout",
     "output_type": "stream",
     "text": [
      "(34+4j)\n"
     ]
    }
   ],
   "source": [
    "real = 34\n",
    "imaginary = 4\n",
    "\n",
    "complex_number = complex(real, imaginary)\n",
    "\n",
    "print(complex_number)"
   ]
  },
  {
   "cell_type": "code",
   "execution_count": 3,
   "id": "f04b288f",
   "metadata": {},
   "outputs": [
    {
     "name": "stdout",
     "output_type": "stream",
     "text": [
      "<class 'complex'>\n"
     ]
    }
   ],
   "source": [
    "print(type(complex_number))"
   ]
  },
  {
   "cell_type": "code",
   "execution_count": 1,
   "id": "65692fb1",
   "metadata": {},
   "outputs": [],
   "source": [
    "a=['f', 'f', 4]"
   ]
  },
  {
   "cell_type": "code",
   "execution_count": 3,
   "id": "04c1aa6b",
   "metadata": {},
   "outputs": [
    {
     "name": "stdout",
     "output_type": "stream",
     "text": [
      "[1, 2, 3, 4, 5, 6, 7, 8, 9, 10]\n"
     ]
    }
   ],
   "source": [
    "list1 =[1, 2, 3, 4, 5, 6 ,7  ,8, 9 ,10]\n",
    "\n",
    "print(list1)"
   ]
  },
  {
   "cell_type": "code",
   "execution_count": 5,
   "id": "379833b0",
   "metadata": {},
   "outputs": [
    {
     "name": "stdout",
     "output_type": "stream",
     "text": [
      "[1, 2, 3, 'a', 'b', 'c', 2.2, 3.3, 4.4]\n"
     ]
    }
   ],
   "source": [
    "list2 = [1, 2, 3, 'a', 'b', 'c', 2.2, 3.3, 4.4]\n",
    "\n",
    "print(list2)"
   ]
  },
  {
   "cell_type": "code",
   "execution_count": 8,
   "id": "499fa2ef",
   "metadata": {},
   "outputs": [
    {
     "name": "stdout",
     "output_type": "stream",
     "text": [
      "[2, 3, 'A']\n"
     ]
    }
   ],
   "source": [
    "list3 =[]\n",
    "\n",
    "a =2\n",
    "b =3\n",
    "c ='A'\n",
    "\n",
    "list3.append(a)\n",
    "list3.append(b)\n",
    "list3.append(c)\n",
    "\n",
    "print(list3)"
   ]
  },
  {
   "cell_type": "code",
   "execution_count": 9,
   "id": "7fcdb039",
   "metadata": {},
   "outputs": [
    {
     "name": "stdout",
     "output_type": "stream",
     "text": [
      "[0, 1, 2, 3, 4, 5, 6, 7, 8, 9]\n"
     ]
    }
   ],
   "source": [
    "list4 =[]\n",
    "\n",
    "for i in range(10):\n",
    "    list4.append(i)\n",
    "    \n",
    "print(list4)"
   ]
  },
  {
   "cell_type": "code",
   "execution_count": 10,
   "id": "a2a3d9d8",
   "metadata": {},
   "outputs": [
    {
     "name": "stdout",
     "output_type": "stream",
     "text": [
      "[[1, 2, 3, 4], ['', 'b', 'c'], [2.2, 3.3, 4.4]]\n"
     ]
    }
   ],
   "source": [
    "list5 = [[1,2,3,4], ['', 'b', 'c'], [2.2, 3.3, 4.4]]\n",
    "\n",
    "print(list5)"
   ]
  },
  {
   "cell_type": "code",
   "execution_count": 23,
   "id": "c23f000d",
   "metadata": {},
   "outputs": [
    {
     "name": "stdout",
     "output_type": "stream",
     "text": [
      "[[0], [0, 1], [0, 1, 2], [0, 1, 2, 3]]\n"
     ]
    }
   ],
   "source": [
    "list6=[]\n",
    "\n",
    "for i in range(1, 5):\n",
    "    list7 = []\n",
    "    for j in range(i):\n",
    "        list7.append(j)\n",
    "    list6.append(list7)\n",
    "                   \n",
    "print(list6)"
   ]
  },
  {
   "cell_type": "code",
   "execution_count": 24,
   "id": "87a22203",
   "metadata": {},
   "outputs": [
    {
     "name": "stdout",
     "output_type": "stream",
     "text": [
      "<class 'tuple'>\n"
     ]
    }
   ],
   "source": [
    "tup1 =()\n",
    "\n",
    "print(type(tup1))"
   ]
  },
  {
   "cell_type": "code",
   "execution_count": 34,
   "id": "5fa249c2",
   "metadata": {},
   "outputs": [
    {
     "name": "stdout",
     "output_type": "stream",
     "text": [
      "(1, 2, 3)\n"
     ]
    }
   ],
   "source": [
    "tup1 = ()\n",
    "\n",
    "tup1 = tup1 + (1,)\n",
    "tup1= tup1 +(2,)\n",
    "tup1 =tup1 + (3,)\n",
    "\n",
    "print(tup1)\n"
   ]
  },
  {
   "cell_type": "code",
   "execution_count": 36,
   "id": "d5cbc31e",
   "metadata": {},
   "outputs": [
    {
     "name": "stdout",
     "output_type": "stream",
     "text": [
      "((0,), (0, 1), (0, 1, 2), (0, 1, 2, 3))\n"
     ]
    }
   ],
   "source": [
    "tup2 = ()\n",
    "\n",
    "for i in range(1, 5):\n",
    "    tup3 = ()\n",
    "    for j in range(i):\n",
    "        tup3 = tup3 + (j,)\n",
    "    tup2 = tup2 + (tup3,)\n",
    "\n",
    "print(tup2)"
   ]
  },
  {
   "cell_type": "code",
   "execution_count": 38,
   "id": "076b0893",
   "metadata": {},
   "outputs": [
    {
     "name": "stdout",
     "output_type": "stream",
     "text": [
      "<class 'dict'>\n"
     ]
    }
   ],
   "source": [
    "dict1 = {}\n",
    "\n",
    "print(type(dict1))"
   ]
  },
  {
   "cell_type": "code",
   "execution_count": 43,
   "id": "ac9528b1",
   "metadata": {},
   "outputs": [
    {
     "name": "stdout",
     "output_type": "stream",
     "text": [
      "{'A': {'a': 1, 'b': 2}, 'B': {'c': 3, 'd': 4}}\n"
     ]
    }
   ],
   "source": [
    "dict1 = {'A' :{'a':1, 'b':2}, \"B\" : {'c':3, 'd':4}}\n",
    "\n",
    "print(dict1)"
   ]
  },
  {
   "cell_type": "code",
   "execution_count": 47,
   "id": "ace633da",
   "metadata": {},
   "outputs": [
    {
     "name": "stdout",
     "output_type": "stream",
     "text": [
      "dict_values([{'a': 1, 'b': 2}, {'c': 3, 'd': 4}])\n"
     ]
    }
   ],
   "source": [
    "dict1 = {'A' :{'a':1, 'b':2}, \"B\" : {'c':3, 'd':4}}\n",
    "\n",
    "print(dict1.values())"
   ]
  },
  {
   "cell_type": "code",
   "execution_count": 48,
   "id": "e58ccd39",
   "metadata": {},
   "outputs": [
    {
     "name": "stdout",
     "output_type": "stream",
     "text": [
      "<class 'bool'>\n",
      "<class 'bool'>\n"
     ]
    }
   ],
   "source": [
    "a = False\n",
    "b = True\n",
    "\n",
    "print(type(a))\n",
    "print(type(b))"
   ]
  },
  {
   "cell_type": "code",
   "execution_count": 50,
   "id": "8037fd96",
   "metadata": {},
   "outputs": [
    {
     "name": "stdout",
     "output_type": "stream",
     "text": [
      "False\n"
     ]
    }
   ],
   "source": [
    "a = 10\n",
    "b =19\n",
    "\n",
    "print(a==b)"
   ]
  },
  {
   "cell_type": "code",
   "execution_count": 54,
   "id": "9017ded0",
   "metadata": {},
   "outputs": [
    {
     "name": "stdout",
     "output_type": "stream",
     "text": [
      "{1, 2, 3, 4, 5, 6, 7}\n"
     ]
    }
   ],
   "source": [
    "set1 = set([1,1,1,1,2,2,2,2,2,2,3,4,5,6,7])\n",
    "\n",
    "print(set1)"
   ]
  },
  {
   "cell_type": "code",
   "execution_count": null,
   "id": "0e50828a",
   "metadata": {},
   "outputs": [],
   "source": []
  }
 ],
 "metadata": {
  "kernelspec": {
   "display_name": "Python 3 (ipykernel)",
   "language": "python",
   "name": "python3"
  },
  "language_info": {
   "codemirror_mode": {
    "name": "ipython",
    "version": 3
   },
   "file_extension": ".py",
   "mimetype": "text/x-python",
   "name": "python",
   "nbconvert_exporter": "python",
   "pygments_lexer": "ipython3",
   "version": "3.10.6"
  }
 },
 "nbformat": 4,
 "nbformat_minor": 5
}
