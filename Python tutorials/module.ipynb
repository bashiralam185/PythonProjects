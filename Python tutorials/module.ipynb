{
 "cells": [
  {
   "cell_type": "code",
   "execution_count": 6,
   "id": "be632dad",
   "metadata": {},
   "outputs": [
    {
     "name": "stdout",
     "output_type": "stream",
     "text": [
      "3.0\n"
     ]
    }
   ],
   "source": [
    "# import standard math module \n",
    "import math\n",
    "\n",
    "# finding the square root\n",
    "root = math.sqrt(9)\n",
    "\n",
    "print(root)"
   ]
  },
  {
   "cell_type": "code",
   "execution_count": 7,
   "id": "d6956ef0",
   "metadata": {},
   "outputs": [
    {
     "name": "stdout",
     "output_type": "stream",
     "text": [
      "3.0\n"
     ]
    }
   ],
   "source": [
    "# importing module using as keyword\n",
    "import math as m\n",
    "\n",
    "  \n",
    "\n",
    "# finding the square root \n",
    "root = m.sqrt(9) \n",
    "\n",
    "print(root) "
   ]
  },
  {
   "cell_type": "code",
   "execution_count": 9,
   "id": "c3f2defb",
   "metadata": {},
   "outputs": [
    {
     "name": "stdout",
     "output_type": "stream",
     "text": [
      "3.0\n"
     ]
    }
   ],
   "source": [
    "# from key word\n",
    "from math import sqrt\n",
    "\n",
    "# finding root\n",
    "root = sqrt(9)\n",
    "\n",
    "print(root)"
   ]
  },
  {
   "cell_type": "code",
   "execution_count": 10,
   "id": "d1ca3d7f",
   "metadata": {},
   "outputs": [
    {
     "name": "stdout",
     "output_type": "stream",
     "text": [
      "3.141592653589793\n"
     ]
    }
   ],
   "source": [
    "# importing everything\n",
    "from math import *\n",
    "\n",
    "# pi value\n",
    "PI = pi\n",
    "\n",
    "print(pi)"
   ]
  },
  {
   "cell_type": "code",
   "execution_count": 12,
   "id": "69fdceb8",
   "metadata": {},
   "outputs": [
    {
     "name": "stdout",
     "output_type": "stream",
     "text": [
      "This is our sample module\n"
     ]
    }
   ],
   "source": [
    "# importing the module\n",
    "import module as md\n",
    "\n",
    "# accessing the sample function\n",
    "md.sample()\n"
   ]
  },
  {
   "cell_type": "code",
   "execution_count": null,
   "id": "902f5b9a",
   "metadata": {},
   "outputs": [],
   "source": []
  }
 ],
 "metadata": {
  "kernelspec": {
   "display_name": "Python 3 (ipykernel)",
   "language": "python",
   "name": "python3"
  },
  "language_info": {
   "codemirror_mode": {
    "name": "ipython",
    "version": 3
   },
   "file_extension": ".py",
   "mimetype": "text/x-python",
   "name": "python",
   "nbconvert_exporter": "python",
   "pygments_lexer": "ipython3",
   "version": "3.10.6"
  }
 },
 "nbformat": 4,
 "nbformat_minor": 5
}
