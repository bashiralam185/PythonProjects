{
 "cells": [
  {
   "cell_type": "code",
   "execution_count": 1,
   "id": "6ba440c5",
   "metadata": {},
   "outputs": [
    {
     "name": "stdout",
     "output_type": "stream",
     "text": [
      "Hello world\n"
     ]
    }
   ],
   "source": [
    "print('Hello world')"
   ]
  },
  {
   "cell_type": "code",
   "execution_count": 2,
   "id": "cc5d900c",
   "metadata": {},
   "outputs": [
    {
     "name": "stdout",
     "output_type": "stream",
     "text": [
      "Hi! This is Bashir and I am 22. I am majoring in computer science\n"
     ]
    }
   ],
   "source": [
    "print(\"Hi! This is Bashir and I am 22. I am majoring in computer science\")"
   ]
  },
  {
   "cell_type": "code",
   "execution_count": 3,
   "id": "01ae3d23",
   "metadata": {},
   "outputs": [
    {
     "name": "stdout",
     "output_type": "stream",
     "text": [
      "Hi! This is Bashir. \n",
      "I am 22. \n",
      "I am majoring in computer science\n"
     ]
    }
   ],
   "source": [
    "print(\"Hi! This is Bashir. \\nI am 22. \\nI am majoring in computer science\")"
   ]
  },
  {
   "cell_type": "code",
   "execution_count": 7,
   "id": "d1668720",
   "metadata": {},
   "outputs": [
    {
     "name": "stdout",
     "output_type": "stream",
     "text": [
      "hello\n",
      "I am Bashir\n",
      "Hope everything is fine!\n"
     ]
    }
   ],
   "source": [
    "print('hello')\n",
    "print('I am Bashir')\n",
    "print('Hope everything is fine!')"
   ]
  },
  {
   "cell_type": "code",
   "execution_count": 8,
   "id": "af78990c",
   "metadata": {},
   "outputs": [
    {
     "name": "stdout",
     "output_type": "stream",
     "text": [
      "Hello!\n",
      "Hope you are doing great!\n"
     ]
    }
   ],
   "source": [
    "# greeting wit people\n",
    "print('Hello!')\n",
    "print('Hope you are doing great!')"
   ]
  },
  {
   "cell_type": "code",
   "execution_count": 10,
   "id": "8371a44f",
   "metadata": {},
   "outputs": [
    {
     "name": "stdout",
     "output_type": "stream",
     "text": [
      "How are you?\n"
     ]
    }
   ],
   "source": [
    "''' this is multiple line comments\n",
    " greeting with people\n",
    "the code asks how are you'''\n",
    "\n",
    "print('How are you?')"
   ]
  },
  {
   "cell_type": "code",
   "execution_count": 14,
   "id": "6244fe7a",
   "metadata": {},
   "outputs": [
    {
     "name": "stdout",
     "output_type": "stream",
     "text": [
      "Enter your name Please: Bashir\n",
      "Your name is : Bashir\n"
     ]
    }
   ],
   "source": [
    "name = input('Enter your name Please: ')\n",
    "\n",
    "print('Your name is :', name)"
   ]
  },
  {
   "cell_type": "code",
   "execution_count": null,
   "id": "4c12d326",
   "metadata": {},
   "outputs": [],
   "source": [
    "# taking user name and stroing it in a variable\n",
    "name = input(\"What is your name? \")\n",
    "\n",
    "# taking age from user\n",
    "age = input('What is your age? ')\n",
    "\n",
    "# asking for favorite color and season\n",
    "color = input('What is your favorite color? ')\n",
    "season = input('What is your favorite seson? ')"
   ]
  }
 ],
 "metadata": {
  "kernelspec": {
   "display_name": "Python 3 (ipykernel)",
   "language": "python",
   "name": "python3"
  },
  "language_info": {
   "codemirror_mode": {
    "name": "ipython",
    "version": 3
   },
   "file_extension": ".py",
   "mimetype": "text/x-python",
   "name": "python",
   "nbconvert_exporter": "python",
   "pygments_lexer": "ipython3",
   "version": "3.10.6"
  }
 },
 "nbformat": 4,
 "nbformat_minor": 5
}
