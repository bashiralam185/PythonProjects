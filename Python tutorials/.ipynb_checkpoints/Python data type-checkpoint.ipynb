{
 "cells": [
  {
   "cell_type": "code",
   "execution_count": 1,
   "id": "0b92ecbe",
   "metadata": {},
   "outputs": [
    {
     "name": "stdout",
     "output_type": "stream",
     "text": [
      "Data type of var1 is :  <class 'int'>\n",
      "Data type of var2 is :  <class 'float'>\n"
     ]
    }
   ],
   "source": [
    "var1 = 10\n",
    "var2 = 3.3\n",
    "\n",
    "print('Data type of var1 is : ', type(var1))\n",
    "print('Data type of var2 is : ', type(var2))"
   ]
  },
  {
   "cell_type": "code",
   "execution_count": 2,
   "id": "ac2aa2ed",
   "metadata": {},
   "outputs": [
    {
     "name": "stdout",
     "output_type": "stream",
     "text": [
      "(34+4j)\n"
     ]
    }
   ],
   "source": [
    "real = 34\n",
    "imaginary = 4\n",
    "\n",
    "complex_number = complex(real, imaginary)\n",
    "\n",
    "print(complex_number)"
   ]
  },
  {
   "cell_type": "code",
   "execution_count": 3,
   "id": "f04b288f",
   "metadata": {},
   "outputs": [
    {
     "name": "stdout",
     "output_type": "stream",
     "text": [
      "<class 'complex'>\n"
     ]
    }
   ],
   "source": [
    "print(type(complex_number))"
   ]
  },
  {
   "cell_type": "code",
   "execution_count": 1,
   "id": "65692fb1",
   "metadata": {},
   "outputs": [],
   "source": [
    "a=['f', 'f', 4]"
   ]
  },
  {
   "cell_type": "code",
   "execution_count": 3,
   "id": "2bb7a7d8",
   "metadata": {},
   "outputs": [
    {
     "name": "stdout",
     "output_type": "stream",
     "text": [
      "[1, 2, 3, 4, 5, 6, 7, 8, 9, 10]\n"
     ]
    }
   ],
   "source": [
    "list1 =[1, 2, 3, 4, 5, 6 ,7  ,8, 9 ,10]\n",
    "\n",
    "print(list1)"
   ]
  },
  {
   "cell_type": "code",
   "execution_count": 5,
   "id": "6a7f8b08",
   "metadata": {},
   "outputs": [
    {
     "name": "stdout",
     "output_type": "stream",
     "text": [
      "[1, 2, 3, 'a', 'b', 'c', 2.2, 3.3, 4.4]\n"
     ]
    }
   ],
   "source": [
    "list2 = [1, 2, 3, 'a', 'b', 'c', 2.2, 3.3, 4.4]\n",
    "\n",
    "print(list2)"
   ]
  },
  {
   "cell_type": "code",
   "execution_count": 8,
   "id": "38a81669",
   "metadata": {},
   "outputs": [
    {
     "name": "stdout",
     "output_type": "stream",
     "text": [
      "[2, 3, 'A']\n"
     ]
    }
   ],
   "source": [
    "list3 =[]\n",
    "\n",
    "a =2\n",
    "b =3\n",
    "c ='A'\n",
    "\n",
    "list3.append(a)\n",
    "list3.append(b)\n",
    "list3.append(c)\n",
    "\n",
    "print(list3)"
   ]
  },
  {
   "cell_type": "code",
   "execution_count": 9,
   "id": "4d3ad231",
   "metadata": {},
   "outputs": [
    {
     "name": "stdout",
     "output_type": "stream",
     "text": [
      "[0, 1, 2, 3, 4, 5, 6, 7, 8, 9]\n"
     ]
    }
   ],
   "source": [
    "list4 =[]\n",
    "\n",
    "for i in range(10):\n",
    "    list4.append(i)\n",
    "    \n",
    "print(list4)"
   ]
  },
  {
   "cell_type": "code",
   "execution_count": 10,
   "id": "421c5fc1",
   "metadata": {},
   "outputs": [
    {
     "name": "stdout",
     "output_type": "stream",
     "text": [
      "[[1, 2, 3, 4], ['', 'b', 'c'], [2.2, 3.3, 4.4]]\n"
     ]
    }
   ],
   "source": [
    "list5 = [[1,2,3,4], ['', 'b', 'c'], [2.2, 3.3, 4.4]]\n",
    "\n",
    "print(list5)"
   ]
  },
  {
   "cell_type": "code",
   "execution_count": 23,
   "id": "0c6abc5d",
   "metadata": {},
   "outputs": [
    {
     "name": "stdout",
     "output_type": "stream",
     "text": [
      "[[0], [0, 1], [0, 1, 2], [0, 1, 2, 3]]\n"
     ]
    }
   ],
   "source": [
    "list6=[]\n",
    "\n",
    "for i in range(1, 5):\n",
    "    list7 = []\n",
    "    for j in range(i):\n",
    "        list7.append(j)\n",
    "    list6.append(list7)\n",
    "                   \n",
    "print(list6)"
   ]
  },
  {
   "cell_type": "code",
   "execution_count": 24,
   "id": "ece218d5",
   "metadata": {},
   "outputs": [
    {
     "name": "stdout",
     "output_type": "stream",
     "text": [
      "<class 'tuple'>\n"
     ]
    }
   ],
   "source": [
    "tup1 =()\n",
    "\n",
    "print(type(tup1))"
   ]
  },
  {
   "cell_type": "code",
   "execution_count": 34,
   "id": "4e3f798a",
   "metadata": {},
   "outputs": [
    {
     "name": "stdout",
     "output_type": "stream",
     "text": [
      "(1, 2, 3)\n"
     ]
    }
   ],
   "source": [
    "tup1 = ()\n",
    "\n",
    "tup1 = tup1 + (1,)\n",
    "tup1= tup1 +(2,)\n",
    "tup1 =tup1 + (3,)\n",
    "\n",
    "print(tup1)\n"
   ]
  },
  {
   "cell_type": "code",
   "execution_count": 36,
   "id": "9944603d",
   "metadata": {},
   "outputs": [
    {
     "name": "stdout",
     "output_type": "stream",
     "text": [
      "((0,), (0, 1), (0, 1, 2), (0, 1, 2, 3))\n"
     ]
    }
   ],
   "source": [
    "tup2 = ()\n",
    "\n",
    "for i in range(1, 5):\n",
    "    tup3 = ()\n",
    "    for j in range(i):\n",
    "        tup3 = tup3 + (j,)\n",
    "    tup2 = tup2 + (tup3,)\n",
    "\n",
    "print(tup2)"
   ]
  },
  {
   "cell_type": "code",
   "execution_count": 38,
   "id": "f481a636",
   "metadata": {},
   "outputs": [
    {
     "name": "stdout",
     "output_type": "stream",
     "text": [
      "<class 'dict'>\n"
     ]
    }
   ],
   "source": [
    "dict1 = {}\n",
    "\n",
    "print(type(dict1))"
   ]
  },
  {
   "cell_type": "code",
   "execution_count": 43,
   "id": "b33b7c88",
   "metadata": {},
   "outputs": [
    {
     "name": "stdout",
     "output_type": "stream",
     "text": [
      "{'A': {'a': 1, 'b': 2}, 'B': {'c': 3, 'd': 4}}\n"
     ]
    }
   ],
   "source": [
    "dict1 = {'A' :{'a':1, 'b':2}, \"B\" : {'c':3, 'd':4}}\n",
    "\n",
    "print(dict1)"
   ]
  },
  {
   "cell_type": "code",
   "execution_count": 47,
   "id": "ee1ad36d",
   "metadata": {},
   "outputs": [
    {
     "name": "stdout",
     "output_type": "stream",
     "text": [
      "dict_values([{'a': 1, 'b': 2}, {'c': 3, 'd': 4}])\n"
     ]
    }
   ],
   "source": [
    "dict1 = {'A' :{'a':1, 'b':2}, \"B\" : {'c':3, 'd':4}}\n",
    "\n",
    "print(dict1.values())"
   ]
  },
  {
   "cell_type": "code",
   "execution_count": 48,
   "id": "5d7b4d03",
   "metadata": {},
   "outputs": [
    {
     "name": "stdout",
     "output_type": "stream",
     "text": [
      "<class 'bool'>\n",
      "<class 'bool'>\n"
     ]
    }
   ],
   "source": [
    "a = False\n",
    "b = True\n",
    "\n",
    "print(type(a))\n",
    "print(type(b))"
   ]
  },
  {
   "cell_type": "code",
   "execution_count": 50,
   "id": "f9195065",
   "metadata": {},
   "outputs": [
    {
     "name": "stdout",
     "output_type": "stream",
     "text": [
      "False\n"
     ]
    }
   ],
   "source": [
    "a = 10\n",
    "b =19\n",
    "\n",
    "print(a==b)"
   ]
  },
  {
   "cell_type": "code",
   "execution_count": 52,
   "id": "db3c4e98",
   "metadata": {},
   "outputs": [
    {
     "name": "stdout",
     "output_type": "stream",
     "text": [
      "<class 'set'>\n"
     ]
    }
   ],
   "source": [
    "set1 = set([1,2,3,4,5,6,7])\n",
    "\n",
    "print(set1)"
   ]
  },
  {
   "cell_type": "code",
   "execution_count": null,
   "id": "74391715",
   "metadata": {},
   "outputs": [],
   "source": []
  }
 ],
 "metadata": {
  "kernelspec": {
   "display_name": "Python 3 (ipykernel)",
   "language": "python",
   "name": "python3"
  },
  "language_info": {
   "codemirror_mode": {
    "name": "ipython",
    "version": 3
   },
   "file_extension": ".py",
   "mimetype": "text/x-python",
   "name": "python",
   "nbconvert_exporter": "python",
   "pygments_lexer": "ipython3",
   "version": "3.10.6"
  }
 },
 "nbformat": 4,
 "nbformat_minor": 5
}
