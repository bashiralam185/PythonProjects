{
 "cells": [
  {
   "cell_type": "code",
   "execution_count": 6,
   "id": "d791479d",
   "metadata": {},
   "outputs": [
    {
     "name": "stdout",
     "output_type": "stream",
     "text": [
      "3.0\n"
     ]
    }
   ],
   "source": [
    "# import standard math module \n",
    "import math\n",
    "\n",
    "# finding the square root\n",
    "root = math.sqrt(9)\n",
    "\n",
    "print(root)"
   ]
  },
  {
   "cell_type": "code",
   "execution_count": 7,
   "id": "8f2b21e1",
   "metadata": {},
   "outputs": [
    {
     "name": "stdout",
     "output_type": "stream",
     "text": [
      "3.0\n"
     ]
    }
   ],
   "source": [
    "# importing module using as keyword\n",
    "import math as m\n",
    "\n",
    "  \n",
    "\n",
    "# finding the square root \n",
    "root = m.sqrt(9) \n",
    "\n",
    "print(root) "
   ]
  },
  {
   "cell_type": "code",
   "execution_count": 9,
   "id": "b09aa902",
   "metadata": {},
   "outputs": [
    {
     "name": "stdout",
     "output_type": "stream",
     "text": [
      "3.0\n"
     ]
    }
   ],
   "source": [
    "# from key word\n",
    "from math import sqrt\n",
    "\n",
    "# finding root\n",
    "root = sqrt(9)\n",
    "\n",
    "print(root)"
   ]
  },
  {
   "cell_type": "code",
   "execution_count": 10,
   "id": "3c766f6b",
   "metadata": {},
   "outputs": [
    {
     "name": "stdout",
     "output_type": "stream",
     "text": [
      "3.141592653589793\n"
     ]
    }
   ],
   "source": [
    "# importing everything\n",
    "from math import *\n",
    "\n",
    "# pi value\n",
    "PI = pi\n",
    "\n",
    "print(pi)"
   ]
  },
  {
   "cell_type": "code",
   "execution_count": null,
   "id": "ae0abcab",
   "metadata": {},
   "outputs": [],
   "source": [
    "# Defining a function\n",
    "def sample():\n",
    "    print('This is our sample module')"
   ]
  }
 ],
 "metadata": {
  "kernelspec": {
   "display_name": "Python 3 (ipykernel)",
   "language": "python",
   "name": "python3"
  },
  "language_info": {
   "codemirror_mode": {
    "name": "ipython",
    "version": 3
   },
   "file_extension": ".py",
   "mimetype": "text/x-python",
   "name": "python",
   "nbconvert_exporter": "python",
   "pygments_lexer": "ipython3",
   "version": "3.10.6"
  }
 },
 "nbformat": 4,
 "nbformat_minor": 5
}
