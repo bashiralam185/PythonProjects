{
 "cells": [
  {
   "cell_type": "code",
   "execution_count": 1,
   "id": "5c0c6598",
   "metadata": {},
   "outputs": [],
   "source": [
    "class variable:\n",
    "    '''This is a sample class which contains variable'''\n",
    "    x = 10\n",
    "    "
   ]
  },
  {
   "cell_type": "code",
   "execution_count": 2,
   "id": "d5e9eb64",
   "metadata": {},
   "outputs": [],
   "source": [
    "# python class\n",
    "class Student:\n",
    "    \n",
    "   # class attribute\n",
    "   GPA = 3.54 \n",
    "  \n",
    "  # constructor of class\n",
    "   def __init__(self, name):\n",
    "\n",
    "       # instance variable\n",
    "       self.name = name"
   ]
  },
  {
   "cell_type": "code",
   "execution_count": 6,
   "id": "37a64da0",
   "metadata": {},
   "outputs": [
    {
     "name": "stdout",
     "output_type": "stream",
     "text": [
      "3.54\n",
      "Bashir Alam\n"
     ]
    }
   ],
   "source": [
    "# python class\n",
    "class Student:\n",
    "    \n",
    "   # class attribute\n",
    "    GPA = 3.54 \n",
    "    name = 'Bashir Alam'\n",
    "    \n",
    "# creating object\n",
    "student1 = Student\n",
    "\n",
    "# referencing the attributes\n",
    "print(student1.GPA)\n",
    "print(student1.name)"
   ]
  },
  {
   "cell_type": "code",
   "execution_count": 12,
   "id": "39bc539e",
   "metadata": {},
   "outputs": [
    {
     "name": "stdout",
     "output_type": "stream",
     "text": [
      "GPA :  3.4\n",
      "Name :  Bashir\n",
      "GPA :  3.2\n",
      "Name :  Alam\n"
     ]
    }
   ],
   "source": [
    "#  Python class\n",
    "class Student:\n",
    "    \n",
    "    # constuctor in python class\n",
    "    def __init__(self, gpa, name):\n",
    "        self.gpa = gpa\n",
    "        self.name = name\n",
    "        \n",
    "    # method\n",
    "    def student_info(self):\n",
    "        print('GPA : ', self.gpa)\n",
    "        print('Name : ', self.name)\n",
    "    \n",
    "# creating objects\n",
    "student1 = Student(3.4, 'Bashir')\n",
    "student2 = Student(3.2, 'Alam')\n",
    "\n",
    "\n",
    "student1.student_info()\n",
    "student2.student_info()"
   ]
  },
  {
   "cell_type": "code",
   "execution_count": 13,
   "id": "371da2b2",
   "metadata": {},
   "outputs": [
    {
     "name": "stdout",
     "output_type": "stream",
     "text": [
      "GPA before changing:  3.54\n",
      "GPA after changing:  2.9\n"
     ]
    }
   ],
   "source": [
    "# python class\n",
    "class Student:\n",
    "    \n",
    "   # class attribute\n",
    "    GPA = 3.54 \n",
    "    name = 'Bashir Alam'\n",
    "    \n",
    "# creating and object\n",
    "student1 = Student\n",
    "\n",
    "# printing before changing\n",
    "print('GPA before changing: ', student1.GPA)\n",
    "\n",
    "# changing the attribute\n",
    "student1.GPA = 2.9\n",
    "\n",
    "# printing after changing\n",
    "print('GPA after changing: ', student1.GPA)"
   ]
  },
  {
   "cell_type": "code",
   "execution_count": 14,
   "id": "eb0b9363",
   "metadata": {},
   "outputs": [
    {
     "name": "stdout",
     "output_type": "stream",
     "text": [
      "GPA before changing:  3.54\n"
     ]
    },
    {
     "ename": "AttributeError",
     "evalue": "type object 'Student' has no attribute 'GPA'",
     "output_type": "error",
     "traceback": [
      "\u001b[0;31m---------------------------------------------------------------------------\u001b[0m",
      "\u001b[0;31mAttributeError\u001b[0m                            Traceback (most recent call last)",
      "\u001b[0;32m/tmp/ipykernel_302949/2871753056.py\u001b[0m in \u001b[0;36m<module>\u001b[0;34m\u001b[0m\n\u001b[1;32m     16\u001b[0m \u001b[0;34m\u001b[0m\u001b[0m\n\u001b[1;32m     17\u001b[0m \u001b[0;31m# printing after changing\u001b[0m\u001b[0;34m\u001b[0m\u001b[0;34m\u001b[0m\u001b[0m\n\u001b[0;32m---> 18\u001b[0;31m \u001b[0mprint\u001b[0m\u001b[0;34m(\u001b[0m\u001b[0;34m'GPA after changing: '\u001b[0m\u001b[0;34m,\u001b[0m \u001b[0mstudent1\u001b[0m\u001b[0;34m.\u001b[0m\u001b[0mGPA\u001b[0m\u001b[0;34m)\u001b[0m\u001b[0;34m\u001b[0m\u001b[0;34m\u001b[0m\u001b[0m\n\u001b[0m",
      "\u001b[0;31mAttributeError\u001b[0m: type object 'Student' has no attribute 'GPA'"
     ]
    }
   ],
   "source": [
    "# python class\n",
    "class Student:\n",
    "    \n",
    "   # class attribute\n",
    "    GPA = 3.54 \n",
    "    name = 'Bashir Alam'\n",
    "    \n",
    "# creating and object\n",
    "student1 = Student\n",
    "\n",
    "# printing before changing\n",
    "print('GPA before changing: ', student1.GPA)\n",
    "\n",
    "# changing the attribute\n",
    "del student1.GPA \n",
    "\n",
    "# printing after changing\n",
    "print('GPA after changing: ', student1.GPA)"
   ]
  },
  {
   "cell_type": "code",
   "execution_count": null,
   "id": "76f7ebb2",
   "metadata": {},
   "outputs": [],
   "source": []
  }
 ],
 "metadata": {
  "kernelspec": {
   "display_name": "Python 3 (ipykernel)",
   "language": "python",
   "name": "python3"
  },
  "language_info": {
   "codemirror_mode": {
    "name": "ipython",
    "version": 3
   },
   "file_extension": ".py",
   "mimetype": "text/x-python",
   "name": "python",
   "nbconvert_exporter": "python",
   "pygments_lexer": "ipython3",
   "version": "3.10.6"
  }
 },
 "nbformat": 4,
 "nbformat_minor": 5
}
