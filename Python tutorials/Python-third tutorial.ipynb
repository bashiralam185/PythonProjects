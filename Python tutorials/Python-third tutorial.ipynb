{
 "cells": [
  {
   "cell_type": "code",
   "execution_count": 1,
   "id": "5a1721fb",
   "metadata": {},
   "outputs": [],
   "source": [
    "# examples of python in variables\n",
    "num1 =10\n",
    "num2 = 23\n",
    "num3 = -198\n",
    "num4 = 0"
   ]
  },
  {
   "cell_type": "code",
   "execution_count": 2,
   "id": "80ed7d09",
   "metadata": {},
   "outputs": [],
   "source": [
    "# examples of floating points\n",
    "float1 = 4.32\n",
    "float2 = -324\n",
    "foat3 = 4564.0"
   ]
  },
  {
   "cell_type": "code",
   "execution_count": 3,
   "id": "ed980a2a",
   "metadata": {},
   "outputs": [],
   "source": [
    "# Examples of string data type\n",
    "str1 = 'This is bashir'\n",
    "str2 ='B'\n",
    "str3 =\"10\"\n",
    "str4 ='4.32'"
   ]
  },
  {
   "cell_type": "code",
   "execution_count": 4,
   "id": "e07eeabe",
   "metadata": {},
   "outputs": [
    {
     "name": "stdout",
     "output_type": "stream",
     "text": [
      "Please enter your name: namd\n"
     ]
    }
   ],
   "source": [
    "str1 = input('Please enter your name: ')"
   ]
  },
  {
   "cell_type": "code",
   "execution_count": 6,
   "id": "0f20cb68",
   "metadata": {},
   "outputs": [
    {
     "name": "stdout",
     "output_type": "stream",
     "text": [
      "Please enter your age: Bashir\n"
     ]
    },
    {
     "ename": "ValueError",
     "evalue": "invalid literal for int() with base 10: 'Bashir'",
     "output_type": "error",
     "traceback": [
      "\u001b[0;31m---------------------------------------------------------------------------\u001b[0m",
      "\u001b[0;31mValueError\u001b[0m                                Traceback (most recent call last)",
      "\u001b[0;32m/tmp/ipykernel_21210/2567655306.py\u001b[0m in \u001b[0;36m<module>\u001b[0;34m\u001b[0m\n\u001b[0;32m----> 1\u001b[0;31m \u001b[0mint1\u001b[0m \u001b[0;34m=\u001b[0m \u001b[0mint\u001b[0m\u001b[0;34m(\u001b[0m\u001b[0minput\u001b[0m\u001b[0;34m(\u001b[0m\u001b[0;34m'Please enter your age: '\u001b[0m\u001b[0;34m)\u001b[0m\u001b[0;34m)\u001b[0m\u001b[0;34m\u001b[0m\u001b[0;34m\u001b[0m\u001b[0m\n\u001b[0m",
      "\u001b[0;31mValueError\u001b[0m: invalid literal for int() with base 10: 'Bashir'"
     ]
    }
   ],
   "source": [
    "int1 = int(input('Please enter your age: '))"
   ]
  },
  {
   "cell_type": "code",
   "execution_count": 9,
   "id": "bba6f383",
   "metadata": {},
   "outputs": [
    {
     "name": "stdout",
     "output_type": "stream",
     "text": [
      "Enter any decimal number: 3.32\n"
     ]
    }
   ],
   "source": [
    "float1 = float(input(\"Enter any decimal number: \"))"
   ]
  },
  {
   "cell_type": "code",
   "execution_count": 2,
   "id": "e5c7899e",
   "metadata": {},
   "outputs": [
    {
     "name": "stdout",
     "output_type": "stream",
     "text": [
      "9\n"
     ]
    }
   ],
   "source": [
    "print(4+5)"
   ]
  },
  {
   "cell_type": "code",
   "execution_count": 3,
   "id": "c409ee39",
   "metadata": {},
   "outputs": [
    {
     "name": "stdout",
     "output_type": "stream",
     "text": [
      "35\n",
      "0.5\n"
     ]
    }
   ],
   "source": [
    "var1 = 30\n",
    "var2 = 5\n",
    "var3 = 5.5\n",
    "\n",
    "print(var1+var2)\n",
    "print(var3-var2)"
   ]
  },
  {
   "cell_type": "code",
   "execution_count": 6,
   "id": "33082eb3",
   "metadata": {},
   "outputs": [
    {
     "name": "stdout",
     "output_type": "stream",
     "text": [
      "my age is 22\n"
     ]
    }
   ],
   "source": [
    "str1 = 'my age is '\n",
    "int1 = 22\n",
    "\n",
    "print(str1 + str(int1))"
   ]
  },
  {
   "cell_type": "code",
   "execution_count": 8,
   "id": "bba851de",
   "metadata": {},
   "outputs": [
    {
     "name": "stdout",
     "output_type": "stream",
     "text": [
      "2.0\n",
      "3.3333333333333335\n"
     ]
    }
   ],
   "source": [
    "var1 = 5\n",
    "var2 = 10\n",
    "var3 = 3\n",
    "\n",
    "print(var2/var1)\n",
    "print(var2/var3)"
   ]
  },
  {
   "cell_type": "code",
   "execution_count": null,
   "id": "70edd042",
   "metadata": {},
   "outputs": [],
   "source": []
  }
 ],
 "metadata": {
  "kernelspec": {
   "display_name": "Python 3 (ipykernel)",
   "language": "python",
   "name": "python3"
  },
  "language_info": {
   "codemirror_mode": {
    "name": "ipython",
    "version": 3
   },
   "file_extension": ".py",
   "mimetype": "text/x-python",
   "name": "python",
   "nbconvert_exporter": "python",
   "pygments_lexer": "ipython3",
   "version": "3.10.6"
  }
 },
 "nbformat": 4,
 "nbformat_minor": 5
}
